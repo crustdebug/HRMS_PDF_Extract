{
 "cells": [
  {
   "cell_type": "code",
   "execution_count": 1,
   "id": "02cf81ec-d3aa-4494-8f79-1355d65faf74",
   "metadata": {
    "scrolled": true
   },
   "outputs": [
    {
     "name": "stdout",
     "output_type": "stream",
     "text": [
      "Requirement already satisfied: openai in c:\\users\\chetan2\\anaconda3\\envs\\quant3\\lib\\site-packages (from -r requirements.txt (line 1)) (1.93.0)\n",
      "Requirement already satisfied: sentence-transformers in c:\\users\\chetan2\\anaconda3\\envs\\quant3\\lib\\site-packages (from -r requirements.txt (line 2)) (5.0.0)\n",
      "Requirement already satisfied: langchain in c:\\users\\chetan2\\anaconda3\\envs\\quant3\\lib\\site-packages (from -r requirements.txt (line 3)) (0.3.25)\n",
      "Requirement already satisfied: langchain-community in c:\\users\\chetan2\\anaconda3\\envs\\quant3\\lib\\site-packages (from -r requirements.txt (line 4)) (0.3.24)\n",
      "Requirement already satisfied: langsmith<0.2.0 in c:\\users\\chetan2\\anaconda3\\envs\\quant3\\lib\\site-packages (from -r requirements.txt (line 5)) (0.1.147)\n",
      "Requirement already satisfied: pymupdf in c:\\users\\chetan2\\anaconda3\\envs\\quant3\\lib\\site-packages (from -r requirements.txt (line 6)) (1.26.3)\n",
      "Requirement already satisfied: langchain-openai in c:\\users\\chetan2\\anaconda3\\envs\\quant3\\lib\\site-packages (from -r requirements.txt (line 7)) (0.3.19)\n",
      "Requirement already satisfied: langchain-huggingface in c:\\users\\chetan2\\anaconda3\\envs\\quant3\\lib\\site-packages (from -r requirements.txt (line 8)) (0.2.0)\n",
      "Requirement already satisfied: ipywidgets in c:\\users\\chetan2\\anaconda3\\envs\\quant3\\lib\\site-packages (from -r requirements.txt (line 9)) (8.1.7)\n",
      "Requirement already satisfied: tf-keras in c:\\users\\chetan2\\anaconda3\\envs\\quant3\\lib\\site-packages (from -r requirements.txt (line 10)) (2.19.0)\n",
      "Requirement already satisfied: faiss-cpu in c:\\users\\chetan2\\anaconda3\\envs\\quant3\\lib\\site-packages (from -r requirements.txt (line 11)) (1.11.0)\n",
      "Requirement already satisfied: hf-xet in c:\\users\\chetan2\\anaconda3\\envs\\quant3\\lib\\site-packages (from -r requirements.txt (line 12)) (1.1.5)\n",
      "Requirement already satisfied: httpx<1,>=0.23.0 in c:\\users\\chetan2\\anaconda3\\envs\\quant3\\lib\\site-packages (from langsmith<0.2.0->-r requirements.txt (line 5)) (0.28.1)\n",
      "Requirement already satisfied: orjson<4.0.0,>=3.9.14 in c:\\users\\chetan2\\anaconda3\\envs\\quant3\\lib\\site-packages (from langsmith<0.2.0->-r requirements.txt (line 5)) (3.10.18)\n",
      "Requirement already satisfied: pydantic<3.0.0,>=2.7.4 in c:\\users\\chetan2\\anaconda3\\envs\\quant3\\lib\\site-packages (from langsmith<0.2.0->-r requirements.txt (line 5)) (2.11.7)\n",
      "Requirement already satisfied: requests<3,>=2 in c:\\users\\chetan2\\anaconda3\\envs\\quant3\\lib\\site-packages (from langsmith<0.2.0->-r requirements.txt (line 5)) (2.32.4)\n",
      "Requirement already satisfied: requests-toolbelt<2.0.0,>=1.0.0 in c:\\users\\chetan2\\anaconda3\\envs\\quant3\\lib\\site-packages (from langsmith<0.2.0->-r requirements.txt (line 5)) (1.0.0)\n",
      "Requirement already satisfied: anyio in c:\\users\\chetan2\\anaconda3\\envs\\quant3\\lib\\site-packages (from httpx<1,>=0.23.0->langsmith<0.2.0->-r requirements.txt (line 5)) (4.7.0)\n",
      "Requirement already satisfied: certifi in c:\\users\\chetan2\\anaconda3\\envs\\quant3\\lib\\site-packages (from httpx<1,>=0.23.0->langsmith<0.2.0->-r requirements.txt (line 5)) (2025.6.15)\n",
      "Requirement already satisfied: httpcore==1.* in c:\\users\\chetan2\\anaconda3\\envs\\quant3\\lib\\site-packages (from httpx<1,>=0.23.0->langsmith<0.2.0->-r requirements.txt (line 5)) (1.0.9)\n",
      "Requirement already satisfied: idna in c:\\users\\chetan2\\anaconda3\\envs\\quant3\\lib\\site-packages (from httpx<1,>=0.23.0->langsmith<0.2.0->-r requirements.txt (line 5)) (3.7)\n",
      "Requirement already satisfied: h11>=0.16 in c:\\users\\chetan2\\anaconda3\\envs\\quant3\\lib\\site-packages (from httpcore==1.*->httpx<1,>=0.23.0->langsmith<0.2.0->-r requirements.txt (line 5)) (0.16.0)\n",
      "Requirement already satisfied: annotated-types>=0.6.0 in c:\\users\\chetan2\\anaconda3\\envs\\quant3\\lib\\site-packages (from pydantic<3.0.0,>=2.7.4->langsmith<0.2.0->-r requirements.txt (line 5)) (0.7.0)\n",
      "Requirement already satisfied: pydantic-core==2.33.2 in c:\\users\\chetan2\\anaconda3\\envs\\quant3\\lib\\site-packages (from pydantic<3.0.0,>=2.7.4->langsmith<0.2.0->-r requirements.txt (line 5)) (2.33.2)\n",
      "Requirement already satisfied: typing-extensions>=4.12.2 in c:\\users\\chetan2\\anaconda3\\envs\\quant3\\lib\\site-packages (from pydantic<3.0.0,>=2.7.4->langsmith<0.2.0->-r requirements.txt (line 5)) (4.12.2)\n",
      "Requirement already satisfied: typing-inspection>=0.4.0 in c:\\users\\chetan2\\anaconda3\\envs\\quant3\\lib\\site-packages (from pydantic<3.0.0,>=2.7.4->langsmith<0.2.0->-r requirements.txt (line 5)) (0.4.1)\n",
      "Requirement already satisfied: charset_normalizer<4,>=2 in c:\\users\\chetan2\\anaconda3\\envs\\quant3\\lib\\site-packages (from requests<3,>=2->langsmith<0.2.0->-r requirements.txt (line 5)) (3.3.2)\n",
      "Requirement already satisfied: urllib3<3,>=1.21.1 in c:\\users\\chetan2\\anaconda3\\envs\\quant3\\lib\\site-packages (from requests<3,>=2->langsmith<0.2.0->-r requirements.txt (line 5)) (2.5.0)\n",
      "Requirement already satisfied: distro<2,>=1.7.0 in c:\\users\\chetan2\\anaconda3\\envs\\quant3\\lib\\site-packages (from openai->-r requirements.txt (line 1)) (1.9.0)\n",
      "Requirement already satisfied: jiter<1,>=0.4.0 in c:\\users\\chetan2\\anaconda3\\envs\\quant3\\lib\\site-packages (from openai->-r requirements.txt (line 1)) (0.10.0)\n",
      "Requirement already satisfied: sniffio in c:\\users\\chetan2\\anaconda3\\envs\\quant3\\lib\\site-packages (from openai->-r requirements.txt (line 1)) (1.3.0)\n",
      "Requirement already satisfied: tqdm>4 in c:\\users\\chetan2\\anaconda3\\envs\\quant3\\lib\\site-packages (from openai->-r requirements.txt (line 1)) (4.67.1)\n",
      "Requirement already satisfied: transformers<5.0.0,>=4.41.0 in c:\\users\\chetan2\\anaconda3\\envs\\quant3\\lib\\site-packages (from sentence-transformers->-r requirements.txt (line 2)) (4.53.1)\n",
      "Requirement already satisfied: torch>=1.11.0 in c:\\users\\chetan2\\anaconda3\\envs\\quant3\\lib\\site-packages (from sentence-transformers->-r requirements.txt (line 2)) (2.7.1)\n",
      "Requirement already satisfied: scikit-learn in c:\\users\\chetan2\\anaconda3\\envs\\quant3\\lib\\site-packages (from sentence-transformers->-r requirements.txt (line 2)) (1.7.0)\n",
      "Requirement already satisfied: scipy in c:\\users\\chetan2\\anaconda3\\envs\\quant3\\lib\\site-packages (from sentence-transformers->-r requirements.txt (line 2)) (1.16.0)\n",
      "Requirement already satisfied: huggingface-hub>=0.20.0 in c:\\users\\chetan2\\anaconda3\\envs\\quant3\\lib\\site-packages (from sentence-transformers->-r requirements.txt (line 2)) (0.33.2)\n",
      "Requirement already satisfied: Pillow in c:\\users\\chetan2\\anaconda3\\envs\\quant3\\lib\\site-packages (from sentence-transformers->-r requirements.txt (line 2)) (11.3.0)\n",
      "Requirement already satisfied: filelock in c:\\users\\chetan2\\anaconda3\\envs\\quant3\\lib\\site-packages (from transformers<5.0.0,>=4.41.0->sentence-transformers->-r requirements.txt (line 2)) (3.18.0)\n",
      "Requirement already satisfied: numpy>=1.17 in c:\\users\\chetan2\\anaconda3\\envs\\quant3\\lib\\site-packages (from transformers<5.0.0,>=4.41.0->sentence-transformers->-r requirements.txt (line 2)) (2.1.3)\n",
      "Requirement already satisfied: packaging>=20.0 in c:\\users\\chetan2\\anaconda3\\envs\\quant3\\lib\\site-packages (from transformers<5.0.0,>=4.41.0->sentence-transformers->-r requirements.txt (line 2)) (24.2)\n",
      "Requirement already satisfied: pyyaml>=5.1 in c:\\users\\chetan2\\anaconda3\\envs\\quant3\\lib\\site-packages (from transformers<5.0.0,>=4.41.0->sentence-transformers->-r requirements.txt (line 2)) (6.0.2)\n",
      "Requirement already satisfied: regex!=2019.12.17 in c:\\users\\chetan2\\anaconda3\\envs\\quant3\\lib\\site-packages (from transformers<5.0.0,>=4.41.0->sentence-transformers->-r requirements.txt (line 2)) (2024.11.6)\n",
      "Requirement already satisfied: tokenizers<0.22,>=0.21 in c:\\users\\chetan2\\anaconda3\\envs\\quant3\\lib\\site-packages (from transformers<5.0.0,>=4.41.0->sentence-transformers->-r requirements.txt (line 2)) (0.21.2)\n",
      "Requirement already satisfied: safetensors>=0.4.3 in c:\\users\\chetan2\\anaconda3\\envs\\quant3\\lib\\site-packages (from transformers<5.0.0,>=4.41.0->sentence-transformers->-r requirements.txt (line 2)) (0.5.3)\n",
      "Requirement already satisfied: fsspec>=2023.5.0 in c:\\users\\chetan2\\anaconda3\\envs\\quant3\\lib\\site-packages (from huggingface-hub>=0.20.0->sentence-transformers->-r requirements.txt (line 2)) (2025.5.1)\n",
      "Requirement already satisfied: langchain-core<1.0.0,>=0.3.58 in c:\\users\\chetan2\\anaconda3\\envs\\quant3\\lib\\site-packages (from langchain->-r requirements.txt (line 3)) (0.3.63)\n",
      "Requirement already satisfied: langchain-text-splitters<1.0.0,>=0.3.8 in c:\\users\\chetan2\\anaconda3\\envs\\quant3\\lib\\site-packages (from langchain->-r requirements.txt (line 3)) (0.3.8)\n",
      "Requirement already satisfied: SQLAlchemy<3,>=1.4 in c:\\users\\chetan2\\anaconda3\\envs\\quant3\\lib\\site-packages (from langchain->-r requirements.txt (line 3)) (2.0.41)\n",
      "Requirement already satisfied: tenacity!=8.4.0,<10.0.0,>=8.1.0 in c:\\users\\chetan2\\anaconda3\\envs\\quant3\\lib\\site-packages (from langchain-core<1.0.0,>=0.3.58->langchain->-r requirements.txt (line 3)) (9.1.2)\n",
      "Requirement already satisfied: jsonpatch<2.0,>=1.33 in c:\\users\\chetan2\\anaconda3\\envs\\quant3\\lib\\site-packages (from langchain-core<1.0.0,>=0.3.58->langchain->-r requirements.txt (line 3)) (1.33)\n",
      "Requirement already satisfied: jsonpointer>=1.9 in c:\\users\\chetan2\\anaconda3\\envs\\quant3\\lib\\site-packages (from jsonpatch<2.0,>=1.33->langchain-core<1.0.0,>=0.3.58->langchain->-r requirements.txt (line 3)) (3.0.0)\n",
      "Requirement already satisfied: greenlet>=1 in c:\\users\\chetan2\\anaconda3\\envs\\quant3\\lib\\site-packages (from SQLAlchemy<3,>=1.4->langchain->-r requirements.txt (line 3)) (3.2.3)\n",
      "Requirement already satisfied: aiohttp<4.0.0,>=3.8.3 in c:\\users\\chetan2\\anaconda3\\envs\\quant3\\lib\\site-packages (from langchain-community->-r requirements.txt (line 4)) (3.12.13)\n",
      "Requirement already satisfied: dataclasses-json<0.7,>=0.5.7 in c:\\users\\chetan2\\anaconda3\\envs\\quant3\\lib\\site-packages (from langchain-community->-r requirements.txt (line 4)) (0.6.7)\n",
      "Requirement already satisfied: pydantic-settings<3.0.0,>=2.4.0 in c:\\users\\chetan2\\anaconda3\\envs\\quant3\\lib\\site-packages (from langchain-community->-r requirements.txt (line 4)) (2.10.1)\n",
      "Requirement already satisfied: httpx-sse<1.0.0,>=0.4.0 in c:\\users\\chetan2\\anaconda3\\envs\\quant3\\lib\\site-packages (from langchain-community->-r requirements.txt (line 4)) (0.4.1)\n",
      "Requirement already satisfied: aiohappyeyeballs>=2.5.0 in c:\\users\\chetan2\\anaconda3\\envs\\quant3\\lib\\site-packages (from aiohttp<4.0.0,>=3.8.3->langchain-community->-r requirements.txt (line 4)) (2.6.1)\n",
      "Requirement already satisfied: aiosignal>=1.1.2 in c:\\users\\chetan2\\anaconda3\\envs\\quant3\\lib\\site-packages (from aiohttp<4.0.0,>=3.8.3->langchain-community->-r requirements.txt (line 4)) (1.4.0)\n",
      "Requirement already satisfied: attrs>=17.3.0 in c:\\users\\chetan2\\anaconda3\\envs\\quant3\\lib\\site-packages (from aiohttp<4.0.0,>=3.8.3->langchain-community->-r requirements.txt (line 4)) (24.3.0)\n",
      "Requirement already satisfied: frozenlist>=1.1.1 in c:\\users\\chetan2\\anaconda3\\envs\\quant3\\lib\\site-packages (from aiohttp<4.0.0,>=3.8.3->langchain-community->-r requirements.txt (line 4)) (1.7.0)\n",
      "Requirement already satisfied: multidict<7.0,>=4.5 in c:\\users\\chetan2\\anaconda3\\envs\\quant3\\lib\\site-packages (from aiohttp<4.0.0,>=3.8.3->langchain-community->-r requirements.txt (line 4)) (6.6.3)\n",
      "Requirement already satisfied: propcache>=0.2.0 in c:\\users\\chetan2\\anaconda3\\envs\\quant3\\lib\\site-packages (from aiohttp<4.0.0,>=3.8.3->langchain-community->-r requirements.txt (line 4)) (0.3.2)\n",
      "Requirement already satisfied: yarl<2.0,>=1.17.0 in c:\\users\\chetan2\\anaconda3\\envs\\quant3\\lib\\site-packages (from aiohttp<4.0.0,>=3.8.3->langchain-community->-r requirements.txt (line 4)) (1.20.1)\n",
      "Requirement already satisfied: marshmallow<4.0.0,>=3.18.0 in c:\\users\\chetan2\\anaconda3\\envs\\quant3\\lib\\site-packages (from dataclasses-json<0.7,>=0.5.7->langchain-community->-r requirements.txt (line 4)) (3.26.1)\n",
      "Requirement already satisfied: typing-inspect<1,>=0.4.0 in c:\\users\\chetan2\\anaconda3\\envs\\quant3\\lib\\site-packages (from dataclasses-json<0.7,>=0.5.7->langchain-community->-r requirements.txt (line 4)) (0.9.0)\n",
      "Requirement already satisfied: python-dotenv>=0.21.0 in c:\\users\\chetan2\\anaconda3\\envs\\quant3\\lib\\site-packages (from pydantic-settings<3.0.0,>=2.4.0->langchain-community->-r requirements.txt (line 4)) (1.1.1)\n",
      "Requirement already satisfied: mypy-extensions>=0.3.0 in c:\\users\\chetan2\\anaconda3\\envs\\quant3\\lib\\site-packages (from typing-inspect<1,>=0.4.0->dataclasses-json<0.7,>=0.5.7->langchain-community->-r requirements.txt (line 4)) (1.1.0)\n",
      "Requirement already satisfied: tiktoken<1,>=0.7 in c:\\users\\chetan2\\anaconda3\\envs\\quant3\\lib\\site-packages (from langchain-openai->-r requirements.txt (line 7)) (0.9.0)\n",
      "Requirement already satisfied: comm>=0.1.3 in c:\\users\\chetan2\\anaconda3\\envs\\quant3\\lib\\site-packages (from ipywidgets->-r requirements.txt (line 9)) (0.2.1)\n",
      "Requirement already satisfied: ipython>=6.1.0 in c:\\users\\chetan2\\anaconda3\\envs\\quant3\\lib\\site-packages (from ipywidgets->-r requirements.txt (line 9)) (9.1.0)\n",
      "Requirement already satisfied: traitlets>=4.3.1 in c:\\users\\chetan2\\anaconda3\\envs\\quant3\\lib\\site-packages (from ipywidgets->-r requirements.txt (line 9)) (5.14.3)\n",
      "Requirement already satisfied: widgetsnbextension~=4.0.14 in c:\\users\\chetan2\\anaconda3\\envs\\quant3\\lib\\site-packages (from ipywidgets->-r requirements.txt (line 9)) (4.0.14)\n",
      "Requirement already satisfied: jupyterlab_widgets~=3.0.15 in c:\\users\\chetan2\\anaconda3\\envs\\quant3\\lib\\site-packages (from ipywidgets->-r requirements.txt (line 9)) (3.0.15)\n",
      "Requirement already satisfied: tensorflow<2.20,>=2.19 in c:\\users\\chetan2\\anaconda3\\envs\\quant3\\lib\\site-packages (from tf-keras->-r requirements.txt (line 10)) (2.19.0)\n",
      "Requirement already satisfied: absl-py>=1.0.0 in c:\\users\\chetan2\\anaconda3\\envs\\quant3\\lib\\site-packages (from tensorflow<2.20,>=2.19->tf-keras->-r requirements.txt (line 10)) (2.3.1)\n",
      "Requirement already satisfied: astunparse>=1.6.0 in c:\\users\\chetan2\\anaconda3\\envs\\quant3\\lib\\site-packages (from tensorflow<2.20,>=2.19->tf-keras->-r requirements.txt (line 10)) (1.6.3)\n",
      "Requirement already satisfied: flatbuffers>=24.3.25 in c:\\users\\chetan2\\anaconda3\\envs\\quant3\\lib\\site-packages (from tensorflow<2.20,>=2.19->tf-keras->-r requirements.txt (line 10)) (25.2.10)\n",
      "Requirement already satisfied: gast!=0.5.0,!=0.5.1,!=0.5.2,>=0.2.1 in c:\\users\\chetan2\\anaconda3\\envs\\quant3\\lib\\site-packages (from tensorflow<2.20,>=2.19->tf-keras->-r requirements.txt (line 10)) (0.6.0)\n",
      "Requirement already satisfied: google-pasta>=0.1.1 in c:\\users\\chetan2\\anaconda3\\envs\\quant3\\lib\\site-packages (from tensorflow<2.20,>=2.19->tf-keras->-r requirements.txt (line 10)) (0.2.0)\n",
      "Requirement already satisfied: libclang>=13.0.0 in c:\\users\\chetan2\\anaconda3\\envs\\quant3\\lib\\site-packages (from tensorflow<2.20,>=2.19->tf-keras->-r requirements.txt (line 10)) (18.1.1)\n",
      "Requirement already satisfied: opt-einsum>=2.3.2 in c:\\users\\chetan2\\anaconda3\\envs\\quant3\\lib\\site-packages (from tensorflow<2.20,>=2.19->tf-keras->-r requirements.txt (line 10)) (3.4.0)\n",
      "Requirement already satisfied: protobuf!=4.21.0,!=4.21.1,!=4.21.2,!=4.21.3,!=4.21.4,!=4.21.5,<6.0.0dev,>=3.20.3 in c:\\users\\chetan2\\anaconda3\\envs\\quant3\\lib\\site-packages (from tensorflow<2.20,>=2.19->tf-keras->-r requirements.txt (line 10)) (5.29.5)\n",
      "Requirement already satisfied: setuptools in c:\\users\\chetan2\\anaconda3\\envs\\quant3\\lib\\site-packages (from tensorflow<2.20,>=2.19->tf-keras->-r requirements.txt (line 10)) (78.1.1)\n",
      "Requirement already satisfied: six>=1.12.0 in c:\\users\\chetan2\\anaconda3\\envs\\quant3\\lib\\site-packages (from tensorflow<2.20,>=2.19->tf-keras->-r requirements.txt (line 10)) (1.17.0)\n",
      "Requirement already satisfied: termcolor>=1.1.0 in c:\\users\\chetan2\\anaconda3\\envs\\quant3\\lib\\site-packages (from tensorflow<2.20,>=2.19->tf-keras->-r requirements.txt (line 10)) (3.1.0)\n",
      "Requirement already satisfied: wrapt>=1.11.0 in c:\\users\\chetan2\\anaconda3\\envs\\quant3\\lib\\site-packages (from tensorflow<2.20,>=2.19->tf-keras->-r requirements.txt (line 10)) (1.17.2)\n",
      "Requirement already satisfied: grpcio<2.0,>=1.24.3 in c:\\users\\chetan2\\anaconda3\\envs\\quant3\\lib\\site-packages (from tensorflow<2.20,>=2.19->tf-keras->-r requirements.txt (line 10)) (1.73.1)\n",
      "Requirement already satisfied: tensorboard~=2.19.0 in c:\\users\\chetan2\\anaconda3\\envs\\quant3\\lib\\site-packages (from tensorflow<2.20,>=2.19->tf-keras->-r requirements.txt (line 10)) (2.19.0)\n",
      "Requirement already satisfied: keras>=3.5.0 in c:\\users\\chetan2\\anaconda3\\envs\\quant3\\lib\\site-packages (from tensorflow<2.20,>=2.19->tf-keras->-r requirements.txt (line 10)) (3.10.0)\n",
      "Requirement already satisfied: h5py>=3.11.0 in c:\\users\\chetan2\\anaconda3\\envs\\quant3\\lib\\site-packages (from tensorflow<2.20,>=2.19->tf-keras->-r requirements.txt (line 10)) (3.14.0)\n",
      "Requirement already satisfied: ml-dtypes<1.0.0,>=0.5.1 in c:\\users\\chetan2\\anaconda3\\envs\\quant3\\lib\\site-packages (from tensorflow<2.20,>=2.19->tf-keras->-r requirements.txt (line 10)) (0.5.1)\n",
      "Requirement already satisfied: markdown>=2.6.8 in c:\\users\\chetan2\\anaconda3\\envs\\quant3\\lib\\site-packages (from tensorboard~=2.19.0->tensorflow<2.20,>=2.19->tf-keras->-r requirements.txt (line 10)) (3.8.2)\n",
      "Requirement already satisfied: tensorboard-data-server<0.8.0,>=0.7.0 in c:\\users\\chetan2\\anaconda3\\envs\\quant3\\lib\\site-packages (from tensorboard~=2.19.0->tensorflow<2.20,>=2.19->tf-keras->-r requirements.txt (line 10)) (0.7.2)\n",
      "Requirement already satisfied: werkzeug>=1.0.1 in c:\\users\\chetan2\\anaconda3\\envs\\quant3\\lib\\site-packages (from tensorboard~=2.19.0->tensorflow<2.20,>=2.19->tf-keras->-r requirements.txt (line 10)) (3.1.3)\n",
      "Requirement already satisfied: wheel<1.0,>=0.23.0 in c:\\users\\chetan2\\anaconda3\\envs\\quant3\\lib\\site-packages (from astunparse>=1.6.0->tensorflow<2.20,>=2.19->tf-keras->-r requirements.txt (line 10)) (0.45.1)\n",
      "Requirement already satisfied: colorama in c:\\users\\chetan2\\anaconda3\\envs\\quant3\\lib\\site-packages (from ipython>=6.1.0->ipywidgets->-r requirements.txt (line 9)) (0.4.6)\n",
      "Requirement already satisfied: decorator in c:\\users\\chetan2\\anaconda3\\envs\\quant3\\lib\\site-packages (from ipython>=6.1.0->ipywidgets->-r requirements.txt (line 9)) (5.1.1)\n",
      "Requirement already satisfied: ipython-pygments-lexers in c:\\users\\chetan2\\anaconda3\\envs\\quant3\\lib\\site-packages (from ipython>=6.1.0->ipywidgets->-r requirements.txt (line 9)) (1.1.1)\n",
      "Requirement already satisfied: jedi>=0.16 in c:\\users\\chetan2\\anaconda3\\envs\\quant3\\lib\\site-packages (from ipython>=6.1.0->ipywidgets->-r requirements.txt (line 9)) (0.19.2)\n",
      "Requirement already satisfied: matplotlib-inline in c:\\users\\chetan2\\anaconda3\\envs\\quant3\\lib\\site-packages (from ipython>=6.1.0->ipywidgets->-r requirements.txt (line 9)) (0.1.6)\n",
      "Requirement already satisfied: prompt_toolkit<3.1.0,>=3.0.41 in c:\\users\\chetan2\\anaconda3\\envs\\quant3\\lib\\site-packages (from ipython>=6.1.0->ipywidgets->-r requirements.txt (line 9)) (3.0.43)\n",
      "Requirement already satisfied: pygments>=2.4.0 in c:\\users\\chetan2\\anaconda3\\envs\\quant3\\lib\\site-packages (from ipython>=6.1.0->ipywidgets->-r requirements.txt (line 9)) (2.19.1)\n",
      "Requirement already satisfied: stack_data in c:\\users\\chetan2\\anaconda3\\envs\\quant3\\lib\\site-packages (from ipython>=6.1.0->ipywidgets->-r requirements.txt (line 9)) (0.2.0)\n",
      "Requirement already satisfied: wcwidth in c:\\users\\chetan2\\anaconda3\\envs\\quant3\\lib\\site-packages (from prompt_toolkit<3.1.0,>=3.0.41->ipython>=6.1.0->ipywidgets->-r requirements.txt (line 9)) (0.2.13)\n",
      "Requirement already satisfied: parso<0.9.0,>=0.8.4 in c:\\users\\chetan2\\anaconda3\\envs\\quant3\\lib\\site-packages (from jedi>=0.16->ipython>=6.1.0->ipywidgets->-r requirements.txt (line 9)) (0.8.4)\n",
      "Requirement already satisfied: rich in c:\\users\\chetan2\\anaconda3\\envs\\quant3\\lib\\site-packages (from keras>=3.5.0->tensorflow<2.20,>=2.19->tf-keras->-r requirements.txt (line 10)) (14.0.0)\n",
      "Requirement already satisfied: namex in c:\\users\\chetan2\\anaconda3\\envs\\quant3\\lib\\site-packages (from keras>=3.5.0->tensorflow<2.20,>=2.19->tf-keras->-r requirements.txt (line 10)) (0.1.0)\n",
      "Requirement already satisfied: optree in c:\\users\\chetan2\\anaconda3\\envs\\quant3\\lib\\site-packages (from keras>=3.5.0->tensorflow<2.20,>=2.19->tf-keras->-r requirements.txt (line 10)) (0.16.0)\n",
      "Requirement already satisfied: sympy>=1.13.3 in c:\\users\\chetan2\\anaconda3\\envs\\quant3\\lib\\site-packages (from torch>=1.11.0->sentence-transformers->-r requirements.txt (line 2)) (1.14.0)\n",
      "Requirement already satisfied: networkx in c:\\users\\chetan2\\anaconda3\\envs\\quant3\\lib\\site-packages (from torch>=1.11.0->sentence-transformers->-r requirements.txt (line 2)) (3.5)\n",
      "Requirement already satisfied: jinja2 in c:\\users\\chetan2\\anaconda3\\envs\\quant3\\lib\\site-packages (from torch>=1.11.0->sentence-transformers->-r requirements.txt (line 2)) (3.1.6)\n",
      "Requirement already satisfied: mpmath<1.4,>=1.1.0 in c:\\users\\chetan2\\anaconda3\\envs\\quant3\\lib\\site-packages (from sympy>=1.13.3->torch>=1.11.0->sentence-transformers->-r requirements.txt (line 2)) (1.3.0)\n",
      "Requirement already satisfied: MarkupSafe>=2.1.1 in c:\\users\\chetan2\\anaconda3\\envs\\quant3\\lib\\site-packages (from werkzeug>=1.0.1->tensorboard~=2.19.0->tensorflow<2.20,>=2.19->tf-keras->-r requirements.txt (line 10)) (3.0.2)\n",
      "Requirement already satisfied: markdown-it-py>=2.2.0 in c:\\users\\chetan2\\anaconda3\\envs\\quant3\\lib\\site-packages (from rich->keras>=3.5.0->tensorflow<2.20,>=2.19->tf-keras->-r requirements.txt (line 10)) (3.0.0)\n",
      "Requirement already satisfied: mdurl~=0.1 in c:\\users\\chetan2\\anaconda3\\envs\\quant3\\lib\\site-packages (from markdown-it-py>=2.2.0->rich->keras>=3.5.0->tensorflow<2.20,>=2.19->tf-keras->-r requirements.txt (line 10)) (0.1.2)\n",
      "Requirement already satisfied: joblib>=1.2.0 in c:\\users\\chetan2\\anaconda3\\envs\\quant3\\lib\\site-packages (from scikit-learn->sentence-transformers->-r requirements.txt (line 2)) (1.5.1)\n",
      "Requirement already satisfied: threadpoolctl>=3.1.0 in c:\\users\\chetan2\\anaconda3\\envs\\quant3\\lib\\site-packages (from scikit-learn->sentence-transformers->-r requirements.txt (line 2)) (3.6.0)\n",
      "Requirement already satisfied: executing in c:\\users\\chetan2\\anaconda3\\envs\\quant3\\lib\\site-packages (from stack_data->ipython>=6.1.0->ipywidgets->-r requirements.txt (line 9)) (0.8.3)\n",
      "Requirement already satisfied: asttokens in c:\\users\\chetan2\\anaconda3\\envs\\quant3\\lib\\site-packages (from stack_data->ipython>=6.1.0->ipywidgets->-r requirements.txt (line 9)) (3.0.0)\n",
      "Requirement already satisfied: pure-eval in c:\\users\\chetan2\\anaconda3\\envs\\quant3\\lib\\site-packages (from stack_data->ipython>=6.1.0->ipywidgets->-r requirements.txt (line 9)) (0.2.2)\n",
      "Note: you may need to restart the kernel to use updated packages.\n"
     ]
    }
   ],
   "source": [
    "pip install -r requirements.txt"
   ]
  },
  {
   "cell_type": "code",
   "execution_count": 32,
   "id": "6fd60aa2-1f22-4d04-8d60-934a2088132a",
   "metadata": {},
   "outputs": [],
   "source": [
    "from langchain_community.document_loaders import PyMuPDFLoader\n",
    "from langchain.text_splitter import CharacterTextSplitter\n",
    "from langchain.vectorstores import FAISS\n",
    "from langchain_huggingface import HuggingFaceEmbeddings\n",
    "import sentence_transformers\n",
    "from langchain.chains import ConversationalRetrievalChain\n",
    "from tqdm import tqdm\n",
    "from langchain.llms import Together\n",
    "from langchain.prompts import PromptTemplate"
   ]
  },
  {
   "cell_type": "code",
   "execution_count": 2,
   "id": "d6ee42b4",
   "metadata": {},
   "outputs": [],
   "source": [
    "embedding = HuggingFaceEmbeddings(model=\"BAAI/bge-large-en-v1.5\" ,encode_kwargs={\"normalize_embeddings\": True})\n",
    "db = FAISS.load_local(\"faiss_index\", embedding,allow_dangerous_deserialization=True)"
   ]
  },
  {
   "cell_type": "code",
   "execution_count": 33,
   "id": "f5782de4-45f1-4102-9570-e03f9427f38e",
   "metadata": {},
   "outputs": [
    {
     "name": "stdout",
     "output_type": "stream",
     "text": [
      "431278/2022/SPV DIVISION\n",
      "16\n",
      "Code of Conduct\n",
      "1.1 \n",
      "Title and Commencement\n",
      "This Policy will be called the ‘NHLML Code of Conduct’. The Policy comes into\n",
      "force effective from\n",
      ".\n",
      "1.2 \n",
      "Applicability\n",
      "Except as otherwise provided by or under these rules they shall apply to all persons\n",
      "appointed against regular posts in connection with the affairs of the NHLML. These rules\n",
      "shall not apply to appointments on casual basis.\n",
      "1.3 \n",
      "Objectives\n",
      "The purpose of this is to define a Service Code of Conduct for all Ex\n"
     ]
    }
   ],
   "source": [
    "loader = PyMuPDFLoader(\"HR-policy-text.pdf\")\n",
    "documents = loader.load()\n",
    "print(documents[15].page_content[:500]) "
   ]
  },
  {
   "cell_type": "code",
   "execution_count": 34,
   "id": "a832acda-6292-48cc-91c8-01e0c738345b",
   "metadata": {},
   "outputs": [],
   "source": [
    "splitter = CharacterTextSplitter(chunk_size=300, chunk_overlap=100)\n",
    "docs = splitter.split_documents(documents)"
   ]
  },
  {
   "cell_type": "code",
   "execution_count": 35,
   "id": "4525c9c5-2835-4d32-a45b-cc25c56a1a23",
   "metadata": {},
   "outputs": [
    {
     "name": "stderr",
     "output_type": "stream",
     "text": [
      "100%|██████████| 75/75 [02:08<00:00,  1.71s/it]\n"
     ]
    }
   ],
   "source": [
    "embeddings = HuggingFaceEmbeddings(model=\"BAAI/bge-large-en-v1.5\" ,encode_kwargs={\"normalize_embeddings\": True}) #thenlper/gte-small \n",
    "db = FAISS.from_documents(docs, embeddings)\n",
    "\n",
    "\n",
    "_ = [embeddings.embed_query(doc.page_content) for doc in tqdm(docs)]"
   ]
  },
  {
   "cell_type": "code",
   "execution_count": 53,
   "id": "6287a6c2",
   "metadata": {},
   "outputs": [],
   "source": [
    "db.save_local(\"faiss_index\")"
   ]
  },
  {
   "cell_type": "code",
   "execution_count": 36,
   "id": "dd14e68b-8162-4dd0-a2ec-c93b5e691678",
   "metadata": {},
   "outputs": [],
   "source": [
    "from dotenv import load_dotenv\n",
    "from langchain.memory import ConversationBufferMemory\n",
    "from langchain.memory import ConversationBufferWindowMemory\n",
    "from langchain.chains import ConversationalRetrievalChain\n",
    "import os\n",
    "\n",
    "load_dotenv()\n",
    "api_key = os.getenv(\"together_api_key\")"
   ]
  },
  {
   "cell_type": "code",
   "execution_count": null,
   "id": "08fd4d88-ae81-48d9-9a58-634d5036971f",
   "metadata": {},
   "outputs": [],
   "source": [
    "\n",
    "llm = Together(\n",
    "    model=\"lgai/exaone-3-5-32b-instruct\",\n",
    "    temperature=0,\n",
    "    together_api_key=api_key\n",
    ")"
   ]
  },
  {
   "cell_type": "code",
   "execution_count": 61,
   "id": "e1cd926e-56e9-427e-ab27-625a4701d70a",
   "metadata": {},
   "outputs": [],
   "source": [
    "retriever = db.as_retriever(search_kwargs={\"k\": 3, \"fetch_k\": 10})\n",
    "prompt = PromptTemplate(\n",
    "    input_variables=[\"context\", \"question\"],\n",
    "    template=\"\"\"\n",
    "You are an intelligent and professional HR assistant for a corporate organization named National Highways Logistics Management Ltd (NHLML) and you are named is Tara.\n",
    "You are talking to the employee of NHLML about whom you don't know anything except this.\n",
    "\n",
    "Your responsibilities include:\n",
    "- Answering the question according to the policy\n",
    "- Do not answer questions which are not related to HR or company policies.(e.g., food, pets, travel, entertainment,or any such casual request etc.).\n",
    "- In case of unsurety,just reply with \"Sorry that is not mentioned in the policy\".\n",
    "- Do not respond after simple acknowledgments like \"okay\", \"thanks\", \"ok\", etc.\n",
    "\n",
    "\n",
    "Context:\n",
    "{context}\n",
    "\n",
    "Question:\n",
    "{question}\n",
    "\n",
    "Answer:\n",
    "\"\"\"\n",
    ")"
   ]
  },
  {
   "cell_type": "code",
   "execution_count": 62,
   "id": "2111386b-27d5-42a6-979d-91c3c2ac0aba",
   "metadata": {},
   "outputs": [],
   "source": [
    "\n",
    "ConversationBufferWindowMemory(k=2)\n",
    "\n",
    "memory = ConversationBufferMemory(\n",
    "    memory_key=\"chat_history\",\n",
    "    return_messages=True,\n",
    "    k=2\n",
    ")\n",
    "\n",
    "qa_chain = ConversationalRetrievalChain.from_llm(\n",
    "    llm=llm,  \n",
    "    retriever=retriever,\n",
    "    combine_docs_chain_kwargs={\"prompt\": prompt},\n",
    "    memory=memory\n",
    ")\n"
   ]
  },
  {
   "cell_type": "code",
   "execution_count": 63,
   "id": "bc9a9c43-820d-4a6b-a6dc-b0d98fd70e98",
   "metadata": {
    "scrolled": true
   },
   "outputs": [],
   "source": [
    "qa_chain.memory.clear()"
   ]
  },
  {
   "cell_type": "code",
   "execution_count": null,
   "id": "35366195-66a6-45c3-8458-9fecf98cf462",
   "metadata": {
    "scrolled": true
   },
   "outputs": [
    {
     "ename": "ValueError",
     "evalue": "Together received an invalid payload: {\n  \"id\": \"o2VSRnn-2kFHot-95cedf298c7e8adc-PDX\",\n  \"error\": {\n    \"message\": \"You have reached the rate limit specific to this model meta-llama/Llama-3.3-70B-Instruct-Turbo-Free. The maximum rate limit for this model is 6.0 queries and 180000000 tokens per minute. This limit differs from the general rate limits published at Together AI rate limits documentation (https://docs.together.ai/docs/rate-limits). For inquiries about increasing your model-specific rate limit, please contact our sales team (https://www.together.ai/forms/contact-sales)\",\n    \"type\": \"model_rate_limit\",\n    \"param\": null,\n    \"code\": null\n  }\n}",
     "output_type": "error",
     "traceback": [
      "\u001b[31m---------------------------------------------------------------------------\u001b[39m",
      "\u001b[31mValueError\u001b[39m                                Traceback (most recent call last)",
      "\u001b[36mCell\u001b[39m\u001b[36m \u001b[39m\u001b[32mIn[66]\u001b[39m\u001b[32m, line 2\u001b[39m\n\u001b[32m      1\u001b[39m query = \u001b[33m\"\u001b[39m\u001b[33mwhat is maternity leave\u001b[39m\u001b[33m\"\u001b[39m\n\u001b[32m----> \u001b[39m\u001b[32m2\u001b[39m response = qa_chain.run(query)\n\u001b[32m      4\u001b[39m \u001b[38;5;28mprint\u001b[39m(\u001b[33m\"\u001b[39m\u001b[33mBot:\u001b[39m\u001b[33m\"\u001b[39m, response)\n",
      "\u001b[36mFile \u001b[39m\u001b[32mc:\\Users\\chetan2\\anaconda3\\envs\\quant3\\Lib\\site-packages\\langchain_core\\_api\\deprecation.py:191\u001b[39m, in \u001b[36mdeprecated.<locals>.deprecate.<locals>.warning_emitting_wrapper\u001b[39m\u001b[34m(*args, **kwargs)\u001b[39m\n\u001b[32m    189\u001b[39m     warned = \u001b[38;5;28;01mTrue\u001b[39;00m\n\u001b[32m    190\u001b[39m     emit_warning()\n\u001b[32m--> \u001b[39m\u001b[32m191\u001b[39m \u001b[38;5;28;01mreturn\u001b[39;00m wrapped(*args, **kwargs)\n",
      "\u001b[36mFile \u001b[39m\u001b[32mc:\\Users\\chetan2\\anaconda3\\envs\\quant3\\Lib\\site-packages\\langchain\\chains\\base.py:603\u001b[39m, in \u001b[36mChain.run\u001b[39m\u001b[34m(self, callbacks, tags, metadata, *args, **kwargs)\u001b[39m\n\u001b[32m    601\u001b[39m     \u001b[38;5;28;01mif\u001b[39;00m \u001b[38;5;28mlen\u001b[39m(args) != \u001b[32m1\u001b[39m:\n\u001b[32m    602\u001b[39m         \u001b[38;5;28;01mraise\u001b[39;00m \u001b[38;5;167;01mValueError\u001b[39;00m(\u001b[33m\"\u001b[39m\u001b[33m`run` supports only one positional argument.\u001b[39m\u001b[33m\"\u001b[39m)\n\u001b[32m--> \u001b[39m\u001b[32m603\u001b[39m     \u001b[38;5;28;01mreturn\u001b[39;00m \u001b[38;5;28mself\u001b[39m(args[\u001b[32m0\u001b[39m], callbacks=callbacks, tags=tags, metadata=metadata)[\n\u001b[32m    604\u001b[39m         _output_key\n\u001b[32m    605\u001b[39m     ]\n\u001b[32m    607\u001b[39m \u001b[38;5;28;01mif\u001b[39;00m kwargs \u001b[38;5;129;01mand\u001b[39;00m \u001b[38;5;129;01mnot\u001b[39;00m args:\n\u001b[32m    608\u001b[39m     \u001b[38;5;28;01mreturn\u001b[39;00m \u001b[38;5;28mself\u001b[39m(kwargs, callbacks=callbacks, tags=tags, metadata=metadata)[\n\u001b[32m    609\u001b[39m         _output_key\n\u001b[32m    610\u001b[39m     ]\n",
      "\u001b[36mFile \u001b[39m\u001b[32mc:\\Users\\chetan2\\anaconda3\\envs\\quant3\\Lib\\site-packages\\langchain_core\\_api\\deprecation.py:191\u001b[39m, in \u001b[36mdeprecated.<locals>.deprecate.<locals>.warning_emitting_wrapper\u001b[39m\u001b[34m(*args, **kwargs)\u001b[39m\n\u001b[32m    189\u001b[39m     warned = \u001b[38;5;28;01mTrue\u001b[39;00m\n\u001b[32m    190\u001b[39m     emit_warning()\n\u001b[32m--> \u001b[39m\u001b[32m191\u001b[39m \u001b[38;5;28;01mreturn\u001b[39;00m wrapped(*args, **kwargs)\n",
      "\u001b[36mFile \u001b[39m\u001b[32mc:\\Users\\chetan2\\anaconda3\\envs\\quant3\\Lib\\site-packages\\langchain\\chains\\base.py:386\u001b[39m, in \u001b[36mChain.__call__\u001b[39m\u001b[34m(self, inputs, return_only_outputs, callbacks, tags, metadata, run_name, include_run_info)\u001b[39m\n\u001b[32m    354\u001b[39m \u001b[38;5;250m\u001b[39m\u001b[33;03m\"\"\"Execute the chain.\u001b[39;00m\n\u001b[32m    355\u001b[39m \n\u001b[32m    356\u001b[39m \u001b[33;03mArgs:\u001b[39;00m\n\u001b[32m   (...)\u001b[39m\u001b[32m    377\u001b[39m \u001b[33;03m        `Chain.output_keys`.\u001b[39;00m\n\u001b[32m    378\u001b[39m \u001b[33;03m\"\"\"\u001b[39;00m\n\u001b[32m    379\u001b[39m config = {\n\u001b[32m    380\u001b[39m     \u001b[33m\"\u001b[39m\u001b[33mcallbacks\u001b[39m\u001b[33m\"\u001b[39m: callbacks,\n\u001b[32m    381\u001b[39m     \u001b[33m\"\u001b[39m\u001b[33mtags\u001b[39m\u001b[33m\"\u001b[39m: tags,\n\u001b[32m    382\u001b[39m     \u001b[33m\"\u001b[39m\u001b[33mmetadata\u001b[39m\u001b[33m\"\u001b[39m: metadata,\n\u001b[32m    383\u001b[39m     \u001b[33m\"\u001b[39m\u001b[33mrun_name\u001b[39m\u001b[33m\"\u001b[39m: run_name,\n\u001b[32m    384\u001b[39m }\n\u001b[32m--> \u001b[39m\u001b[32m386\u001b[39m \u001b[38;5;28;01mreturn\u001b[39;00m \u001b[38;5;28mself\u001b[39m.invoke(\n\u001b[32m    387\u001b[39m     inputs,\n\u001b[32m    388\u001b[39m     cast(RunnableConfig, {k: v \u001b[38;5;28;01mfor\u001b[39;00m k, v \u001b[38;5;129;01min\u001b[39;00m config.items() \u001b[38;5;28;01mif\u001b[39;00m v \u001b[38;5;129;01mis\u001b[39;00m \u001b[38;5;129;01mnot\u001b[39;00m \u001b[38;5;28;01mNone\u001b[39;00m}),\n\u001b[32m    389\u001b[39m     return_only_outputs=return_only_outputs,\n\u001b[32m    390\u001b[39m     include_run_info=include_run_info,\n\u001b[32m    391\u001b[39m )\n",
      "\u001b[36mFile \u001b[39m\u001b[32mc:\\Users\\chetan2\\anaconda3\\envs\\quant3\\Lib\\site-packages\\langchain\\chains\\base.py:167\u001b[39m, in \u001b[36mChain.invoke\u001b[39m\u001b[34m(self, input, config, **kwargs)\u001b[39m\n\u001b[32m    165\u001b[39m \u001b[38;5;28;01mexcept\u001b[39;00m \u001b[38;5;167;01mBaseException\u001b[39;00m \u001b[38;5;28;01mas\u001b[39;00m e:\n\u001b[32m    166\u001b[39m     run_manager.on_chain_error(e)\n\u001b[32m--> \u001b[39m\u001b[32m167\u001b[39m     \u001b[38;5;28;01mraise\u001b[39;00m e\n\u001b[32m    168\u001b[39m run_manager.on_chain_end(outputs)\n\u001b[32m    170\u001b[39m \u001b[38;5;28;01mif\u001b[39;00m include_run_info:\n",
      "\u001b[36mFile \u001b[39m\u001b[32mc:\\Users\\chetan2\\anaconda3\\envs\\quant3\\Lib\\site-packages\\langchain\\chains\\base.py:157\u001b[39m, in \u001b[36mChain.invoke\u001b[39m\u001b[34m(self, input, config, **kwargs)\u001b[39m\n\u001b[32m    154\u001b[39m \u001b[38;5;28;01mtry\u001b[39;00m:\n\u001b[32m    155\u001b[39m     \u001b[38;5;28mself\u001b[39m._validate_inputs(inputs)\n\u001b[32m    156\u001b[39m     outputs = (\n\u001b[32m--> \u001b[39m\u001b[32m157\u001b[39m         \u001b[38;5;28mself\u001b[39m._call(inputs, run_manager=run_manager)\n\u001b[32m    158\u001b[39m         \u001b[38;5;28;01mif\u001b[39;00m new_arg_supported\n\u001b[32m    159\u001b[39m         \u001b[38;5;28;01melse\u001b[39;00m \u001b[38;5;28mself\u001b[39m._call(inputs)\n\u001b[32m    160\u001b[39m     )\n\u001b[32m    162\u001b[39m     final_outputs: \u001b[38;5;28mdict\u001b[39m[\u001b[38;5;28mstr\u001b[39m, Any] = \u001b[38;5;28mself\u001b[39m.prep_outputs(\n\u001b[32m    163\u001b[39m         inputs, outputs, return_only_outputs\n\u001b[32m    164\u001b[39m     )\n\u001b[32m    165\u001b[39m \u001b[38;5;28;01mexcept\u001b[39;00m \u001b[38;5;167;01mBaseException\u001b[39;00m \u001b[38;5;28;01mas\u001b[39;00m e:\n",
      "\u001b[36mFile \u001b[39m\u001b[32mc:\\Users\\chetan2\\anaconda3\\envs\\quant3\\Lib\\site-packages\\langchain\\chains\\conversational_retrieval\\base.py:170\u001b[39m, in \u001b[36mBaseConversationalRetrievalChain._call\u001b[39m\u001b[34m(self, inputs, run_manager)\u001b[39m\n\u001b[32m    168\u001b[39m         new_inputs[\u001b[33m\"\u001b[39m\u001b[33mquestion\u001b[39m\u001b[33m\"\u001b[39m] = new_question\n\u001b[32m    169\u001b[39m     new_inputs[\u001b[33m\"\u001b[39m\u001b[33mchat_history\u001b[39m\u001b[33m\"\u001b[39m] = chat_history_str\n\u001b[32m--> \u001b[39m\u001b[32m170\u001b[39m     answer = \u001b[38;5;28mself\u001b[39m.combine_docs_chain.run(\n\u001b[32m    171\u001b[39m         input_documents=docs, callbacks=_run_manager.get_child(), **new_inputs\n\u001b[32m    172\u001b[39m     )\n\u001b[32m    173\u001b[39m     output[\u001b[38;5;28mself\u001b[39m.output_key] = answer\n\u001b[32m    175\u001b[39m \u001b[38;5;28;01mif\u001b[39;00m \u001b[38;5;28mself\u001b[39m.return_source_documents:\n",
      "\u001b[36mFile \u001b[39m\u001b[32mc:\\Users\\chetan2\\anaconda3\\envs\\quant3\\Lib\\site-packages\\langchain_core\\_api\\deprecation.py:191\u001b[39m, in \u001b[36mdeprecated.<locals>.deprecate.<locals>.warning_emitting_wrapper\u001b[39m\u001b[34m(*args, **kwargs)\u001b[39m\n\u001b[32m    189\u001b[39m     warned = \u001b[38;5;28;01mTrue\u001b[39;00m\n\u001b[32m    190\u001b[39m     emit_warning()\n\u001b[32m--> \u001b[39m\u001b[32m191\u001b[39m \u001b[38;5;28;01mreturn\u001b[39;00m wrapped(*args, **kwargs)\n",
      "\u001b[36mFile \u001b[39m\u001b[32mc:\\Users\\chetan2\\anaconda3\\envs\\quant3\\Lib\\site-packages\\langchain\\chains\\base.py:608\u001b[39m, in \u001b[36mChain.run\u001b[39m\u001b[34m(self, callbacks, tags, metadata, *args, **kwargs)\u001b[39m\n\u001b[32m    603\u001b[39m     \u001b[38;5;28;01mreturn\u001b[39;00m \u001b[38;5;28mself\u001b[39m(args[\u001b[32m0\u001b[39m], callbacks=callbacks, tags=tags, metadata=metadata)[\n\u001b[32m    604\u001b[39m         _output_key\n\u001b[32m    605\u001b[39m     ]\n\u001b[32m    607\u001b[39m \u001b[38;5;28;01mif\u001b[39;00m kwargs \u001b[38;5;129;01mand\u001b[39;00m \u001b[38;5;129;01mnot\u001b[39;00m args:\n\u001b[32m--> \u001b[39m\u001b[32m608\u001b[39m     \u001b[38;5;28;01mreturn\u001b[39;00m \u001b[38;5;28mself\u001b[39m(kwargs, callbacks=callbacks, tags=tags, metadata=metadata)[\n\u001b[32m    609\u001b[39m         _output_key\n\u001b[32m    610\u001b[39m     ]\n\u001b[32m    612\u001b[39m \u001b[38;5;28;01mif\u001b[39;00m \u001b[38;5;129;01mnot\u001b[39;00m kwargs \u001b[38;5;129;01mand\u001b[39;00m \u001b[38;5;129;01mnot\u001b[39;00m args:\n\u001b[32m    613\u001b[39m     \u001b[38;5;28;01mraise\u001b[39;00m \u001b[38;5;167;01mValueError\u001b[39;00m(\n\u001b[32m    614\u001b[39m         \u001b[33m\"\u001b[39m\u001b[33m`run` supported with either positional arguments or keyword arguments,\u001b[39m\u001b[33m\"\u001b[39m\n\u001b[32m    615\u001b[39m         \u001b[33m\"\u001b[39m\u001b[33m but none were provided.\u001b[39m\u001b[33m\"\u001b[39m\n\u001b[32m    616\u001b[39m     )\n",
      "\u001b[36mFile \u001b[39m\u001b[32mc:\\Users\\chetan2\\anaconda3\\envs\\quant3\\Lib\\site-packages\\langchain_core\\_api\\deprecation.py:191\u001b[39m, in \u001b[36mdeprecated.<locals>.deprecate.<locals>.warning_emitting_wrapper\u001b[39m\u001b[34m(*args, **kwargs)\u001b[39m\n\u001b[32m    189\u001b[39m     warned = \u001b[38;5;28;01mTrue\u001b[39;00m\n\u001b[32m    190\u001b[39m     emit_warning()\n\u001b[32m--> \u001b[39m\u001b[32m191\u001b[39m \u001b[38;5;28;01mreturn\u001b[39;00m wrapped(*args, **kwargs)\n",
      "\u001b[36mFile \u001b[39m\u001b[32mc:\\Users\\chetan2\\anaconda3\\envs\\quant3\\Lib\\site-packages\\langchain\\chains\\base.py:386\u001b[39m, in \u001b[36mChain.__call__\u001b[39m\u001b[34m(self, inputs, return_only_outputs, callbacks, tags, metadata, run_name, include_run_info)\u001b[39m\n\u001b[32m    354\u001b[39m \u001b[38;5;250m\u001b[39m\u001b[33;03m\"\"\"Execute the chain.\u001b[39;00m\n\u001b[32m    355\u001b[39m \n\u001b[32m    356\u001b[39m \u001b[33;03mArgs:\u001b[39;00m\n\u001b[32m   (...)\u001b[39m\u001b[32m    377\u001b[39m \u001b[33;03m        `Chain.output_keys`.\u001b[39;00m\n\u001b[32m    378\u001b[39m \u001b[33;03m\"\"\"\u001b[39;00m\n\u001b[32m    379\u001b[39m config = {\n\u001b[32m    380\u001b[39m     \u001b[33m\"\u001b[39m\u001b[33mcallbacks\u001b[39m\u001b[33m\"\u001b[39m: callbacks,\n\u001b[32m    381\u001b[39m     \u001b[33m\"\u001b[39m\u001b[33mtags\u001b[39m\u001b[33m\"\u001b[39m: tags,\n\u001b[32m    382\u001b[39m     \u001b[33m\"\u001b[39m\u001b[33mmetadata\u001b[39m\u001b[33m\"\u001b[39m: metadata,\n\u001b[32m    383\u001b[39m     \u001b[33m\"\u001b[39m\u001b[33mrun_name\u001b[39m\u001b[33m\"\u001b[39m: run_name,\n\u001b[32m    384\u001b[39m }\n\u001b[32m--> \u001b[39m\u001b[32m386\u001b[39m \u001b[38;5;28;01mreturn\u001b[39;00m \u001b[38;5;28mself\u001b[39m.invoke(\n\u001b[32m    387\u001b[39m     inputs,\n\u001b[32m    388\u001b[39m     cast(RunnableConfig, {k: v \u001b[38;5;28;01mfor\u001b[39;00m k, v \u001b[38;5;129;01min\u001b[39;00m config.items() \u001b[38;5;28;01mif\u001b[39;00m v \u001b[38;5;129;01mis\u001b[39;00m \u001b[38;5;129;01mnot\u001b[39;00m \u001b[38;5;28;01mNone\u001b[39;00m}),\n\u001b[32m    389\u001b[39m     return_only_outputs=return_only_outputs,\n\u001b[32m    390\u001b[39m     include_run_info=include_run_info,\n\u001b[32m    391\u001b[39m )\n",
      "\u001b[36mFile \u001b[39m\u001b[32mc:\\Users\\chetan2\\anaconda3\\envs\\quant3\\Lib\\site-packages\\langchain\\chains\\base.py:167\u001b[39m, in \u001b[36mChain.invoke\u001b[39m\u001b[34m(self, input, config, **kwargs)\u001b[39m\n\u001b[32m    165\u001b[39m \u001b[38;5;28;01mexcept\u001b[39;00m \u001b[38;5;167;01mBaseException\u001b[39;00m \u001b[38;5;28;01mas\u001b[39;00m e:\n\u001b[32m    166\u001b[39m     run_manager.on_chain_error(e)\n\u001b[32m--> \u001b[39m\u001b[32m167\u001b[39m     \u001b[38;5;28;01mraise\u001b[39;00m e\n\u001b[32m    168\u001b[39m run_manager.on_chain_end(outputs)\n\u001b[32m    170\u001b[39m \u001b[38;5;28;01mif\u001b[39;00m include_run_info:\n",
      "\u001b[36mFile \u001b[39m\u001b[32mc:\\Users\\chetan2\\anaconda3\\envs\\quant3\\Lib\\site-packages\\langchain\\chains\\base.py:157\u001b[39m, in \u001b[36mChain.invoke\u001b[39m\u001b[34m(self, input, config, **kwargs)\u001b[39m\n\u001b[32m    154\u001b[39m \u001b[38;5;28;01mtry\u001b[39;00m:\n\u001b[32m    155\u001b[39m     \u001b[38;5;28mself\u001b[39m._validate_inputs(inputs)\n\u001b[32m    156\u001b[39m     outputs = (\n\u001b[32m--> \u001b[39m\u001b[32m157\u001b[39m         \u001b[38;5;28mself\u001b[39m._call(inputs, run_manager=run_manager)\n\u001b[32m    158\u001b[39m         \u001b[38;5;28;01mif\u001b[39;00m new_arg_supported\n\u001b[32m    159\u001b[39m         \u001b[38;5;28;01melse\u001b[39;00m \u001b[38;5;28mself\u001b[39m._call(inputs)\n\u001b[32m    160\u001b[39m     )\n\u001b[32m    162\u001b[39m     final_outputs: \u001b[38;5;28mdict\u001b[39m[\u001b[38;5;28mstr\u001b[39m, Any] = \u001b[38;5;28mself\u001b[39m.prep_outputs(\n\u001b[32m    163\u001b[39m         inputs, outputs, return_only_outputs\n\u001b[32m    164\u001b[39m     )\n\u001b[32m    165\u001b[39m \u001b[38;5;28;01mexcept\u001b[39;00m \u001b[38;5;167;01mBaseException\u001b[39;00m \u001b[38;5;28;01mas\u001b[39;00m e:\n",
      "\u001b[36mFile \u001b[39m\u001b[32mc:\\Users\\chetan2\\anaconda3\\envs\\quant3\\Lib\\site-packages\\langchain\\chains\\combine_documents\\base.py:138\u001b[39m, in \u001b[36mBaseCombineDocumentsChain._call\u001b[39m\u001b[34m(self, inputs, run_manager)\u001b[39m\n\u001b[32m    136\u001b[39m \u001b[38;5;66;03m# Other keys are assumed to be needed for LLM prediction\u001b[39;00m\n\u001b[32m    137\u001b[39m other_keys = {k: v \u001b[38;5;28;01mfor\u001b[39;00m k, v \u001b[38;5;129;01min\u001b[39;00m inputs.items() \u001b[38;5;28;01mif\u001b[39;00m k != \u001b[38;5;28mself\u001b[39m.input_key}\n\u001b[32m--> \u001b[39m\u001b[32m138\u001b[39m output, extra_return_dict = \u001b[38;5;28mself\u001b[39m.combine_docs(\n\u001b[32m    139\u001b[39m     docs, callbacks=_run_manager.get_child(), **other_keys\n\u001b[32m    140\u001b[39m )\n\u001b[32m    141\u001b[39m extra_return_dict[\u001b[38;5;28mself\u001b[39m.output_key] = output\n\u001b[32m    142\u001b[39m \u001b[38;5;28;01mreturn\u001b[39;00m extra_return_dict\n",
      "\u001b[36mFile \u001b[39m\u001b[32mc:\\Users\\chetan2\\anaconda3\\envs\\quant3\\Lib\\site-packages\\langchain\\chains\\combine_documents\\stuff.py:259\u001b[39m, in \u001b[36mStuffDocumentsChain.combine_docs\u001b[39m\u001b[34m(self, docs, callbacks, **kwargs)\u001b[39m\n\u001b[32m    257\u001b[39m inputs = \u001b[38;5;28mself\u001b[39m._get_inputs(docs, **kwargs)\n\u001b[32m    258\u001b[39m \u001b[38;5;66;03m# Call predict on the LLM.\u001b[39;00m\n\u001b[32m--> \u001b[39m\u001b[32m259\u001b[39m \u001b[38;5;28;01mreturn\u001b[39;00m \u001b[38;5;28mself\u001b[39m.llm_chain.predict(callbacks=callbacks, **inputs), {}\n",
      "\u001b[36mFile \u001b[39m\u001b[32mc:\\Users\\chetan2\\anaconda3\\envs\\quant3\\Lib\\site-packages\\langchain\\chains\\llm.py:319\u001b[39m, in \u001b[36mLLMChain.predict\u001b[39m\u001b[34m(self, callbacks, **kwargs)\u001b[39m\n\u001b[32m    304\u001b[39m \u001b[38;5;28;01mdef\u001b[39;00m\u001b[38;5;250m \u001b[39m\u001b[34mpredict\u001b[39m(\u001b[38;5;28mself\u001b[39m, callbacks: Callbacks = \u001b[38;5;28;01mNone\u001b[39;00m, **kwargs: Any) -> \u001b[38;5;28mstr\u001b[39m:\n\u001b[32m    305\u001b[39m \u001b[38;5;250m    \u001b[39m\u001b[33;03m\"\"\"Format prompt with kwargs and pass to LLM.\u001b[39;00m\n\u001b[32m    306\u001b[39m \n\u001b[32m    307\u001b[39m \u001b[33;03m    Args:\u001b[39;00m\n\u001b[32m   (...)\u001b[39m\u001b[32m    317\u001b[39m \u001b[33;03m            completion = llm.predict(adjective=\"funny\")\u001b[39;00m\n\u001b[32m    318\u001b[39m \u001b[33;03m    \"\"\"\u001b[39;00m\n\u001b[32m--> \u001b[39m\u001b[32m319\u001b[39m     \u001b[38;5;28;01mreturn\u001b[39;00m \u001b[38;5;28mself\u001b[39m(kwargs, callbacks=callbacks)[\u001b[38;5;28mself\u001b[39m.output_key]\n",
      "\u001b[36mFile \u001b[39m\u001b[32mc:\\Users\\chetan2\\anaconda3\\envs\\quant3\\Lib\\site-packages\\langchain_core\\_api\\deprecation.py:191\u001b[39m, in \u001b[36mdeprecated.<locals>.deprecate.<locals>.warning_emitting_wrapper\u001b[39m\u001b[34m(*args, **kwargs)\u001b[39m\n\u001b[32m    189\u001b[39m     warned = \u001b[38;5;28;01mTrue\u001b[39;00m\n\u001b[32m    190\u001b[39m     emit_warning()\n\u001b[32m--> \u001b[39m\u001b[32m191\u001b[39m \u001b[38;5;28;01mreturn\u001b[39;00m wrapped(*args, **kwargs)\n",
      "\u001b[36mFile \u001b[39m\u001b[32mc:\\Users\\chetan2\\anaconda3\\envs\\quant3\\Lib\\site-packages\\langchain\\chains\\base.py:386\u001b[39m, in \u001b[36mChain.__call__\u001b[39m\u001b[34m(self, inputs, return_only_outputs, callbacks, tags, metadata, run_name, include_run_info)\u001b[39m\n\u001b[32m    354\u001b[39m \u001b[38;5;250m\u001b[39m\u001b[33;03m\"\"\"Execute the chain.\u001b[39;00m\n\u001b[32m    355\u001b[39m \n\u001b[32m    356\u001b[39m \u001b[33;03mArgs:\u001b[39;00m\n\u001b[32m   (...)\u001b[39m\u001b[32m    377\u001b[39m \u001b[33;03m        `Chain.output_keys`.\u001b[39;00m\n\u001b[32m    378\u001b[39m \u001b[33;03m\"\"\"\u001b[39;00m\n\u001b[32m    379\u001b[39m config = {\n\u001b[32m    380\u001b[39m     \u001b[33m\"\u001b[39m\u001b[33mcallbacks\u001b[39m\u001b[33m\"\u001b[39m: callbacks,\n\u001b[32m    381\u001b[39m     \u001b[33m\"\u001b[39m\u001b[33mtags\u001b[39m\u001b[33m\"\u001b[39m: tags,\n\u001b[32m    382\u001b[39m     \u001b[33m\"\u001b[39m\u001b[33mmetadata\u001b[39m\u001b[33m\"\u001b[39m: metadata,\n\u001b[32m    383\u001b[39m     \u001b[33m\"\u001b[39m\u001b[33mrun_name\u001b[39m\u001b[33m\"\u001b[39m: run_name,\n\u001b[32m    384\u001b[39m }\n\u001b[32m--> \u001b[39m\u001b[32m386\u001b[39m \u001b[38;5;28;01mreturn\u001b[39;00m \u001b[38;5;28mself\u001b[39m.invoke(\n\u001b[32m    387\u001b[39m     inputs,\n\u001b[32m    388\u001b[39m     cast(RunnableConfig, {k: v \u001b[38;5;28;01mfor\u001b[39;00m k, v \u001b[38;5;129;01min\u001b[39;00m config.items() \u001b[38;5;28;01mif\u001b[39;00m v \u001b[38;5;129;01mis\u001b[39;00m \u001b[38;5;129;01mnot\u001b[39;00m \u001b[38;5;28;01mNone\u001b[39;00m}),\n\u001b[32m    389\u001b[39m     return_only_outputs=return_only_outputs,\n\u001b[32m    390\u001b[39m     include_run_info=include_run_info,\n\u001b[32m    391\u001b[39m )\n",
      "\u001b[36mFile \u001b[39m\u001b[32mc:\\Users\\chetan2\\anaconda3\\envs\\quant3\\Lib\\site-packages\\langchain\\chains\\base.py:167\u001b[39m, in \u001b[36mChain.invoke\u001b[39m\u001b[34m(self, input, config, **kwargs)\u001b[39m\n\u001b[32m    165\u001b[39m \u001b[38;5;28;01mexcept\u001b[39;00m \u001b[38;5;167;01mBaseException\u001b[39;00m \u001b[38;5;28;01mas\u001b[39;00m e:\n\u001b[32m    166\u001b[39m     run_manager.on_chain_error(e)\n\u001b[32m--> \u001b[39m\u001b[32m167\u001b[39m     \u001b[38;5;28;01mraise\u001b[39;00m e\n\u001b[32m    168\u001b[39m run_manager.on_chain_end(outputs)\n\u001b[32m    170\u001b[39m \u001b[38;5;28;01mif\u001b[39;00m include_run_info:\n",
      "\u001b[36mFile \u001b[39m\u001b[32mc:\\Users\\chetan2\\anaconda3\\envs\\quant3\\Lib\\site-packages\\langchain\\chains\\base.py:157\u001b[39m, in \u001b[36mChain.invoke\u001b[39m\u001b[34m(self, input, config, **kwargs)\u001b[39m\n\u001b[32m    154\u001b[39m \u001b[38;5;28;01mtry\u001b[39;00m:\n\u001b[32m    155\u001b[39m     \u001b[38;5;28mself\u001b[39m._validate_inputs(inputs)\n\u001b[32m    156\u001b[39m     outputs = (\n\u001b[32m--> \u001b[39m\u001b[32m157\u001b[39m         \u001b[38;5;28mself\u001b[39m._call(inputs, run_manager=run_manager)\n\u001b[32m    158\u001b[39m         \u001b[38;5;28;01mif\u001b[39;00m new_arg_supported\n\u001b[32m    159\u001b[39m         \u001b[38;5;28;01melse\u001b[39;00m \u001b[38;5;28mself\u001b[39m._call(inputs)\n\u001b[32m    160\u001b[39m     )\n\u001b[32m    162\u001b[39m     final_outputs: \u001b[38;5;28mdict\u001b[39m[\u001b[38;5;28mstr\u001b[39m, Any] = \u001b[38;5;28mself\u001b[39m.prep_outputs(\n\u001b[32m    163\u001b[39m         inputs, outputs, return_only_outputs\n\u001b[32m    164\u001b[39m     )\n\u001b[32m    165\u001b[39m \u001b[38;5;28;01mexcept\u001b[39;00m \u001b[38;5;167;01mBaseException\u001b[39;00m \u001b[38;5;28;01mas\u001b[39;00m e:\n",
      "\u001b[36mFile \u001b[39m\u001b[32mc:\\Users\\chetan2\\anaconda3\\envs\\quant3\\Lib\\site-packages\\langchain\\chains\\llm.py:127\u001b[39m, in \u001b[36mLLMChain._call\u001b[39m\u001b[34m(self, inputs, run_manager)\u001b[39m\n\u001b[32m    122\u001b[39m \u001b[38;5;28;01mdef\u001b[39;00m\u001b[38;5;250m \u001b[39m\u001b[34m_call\u001b[39m(\n\u001b[32m    123\u001b[39m     \u001b[38;5;28mself\u001b[39m,\n\u001b[32m    124\u001b[39m     inputs: \u001b[38;5;28mdict\u001b[39m[\u001b[38;5;28mstr\u001b[39m, Any],\n\u001b[32m    125\u001b[39m     run_manager: Optional[CallbackManagerForChainRun] = \u001b[38;5;28;01mNone\u001b[39;00m,\n\u001b[32m    126\u001b[39m ) -> \u001b[38;5;28mdict\u001b[39m[\u001b[38;5;28mstr\u001b[39m, \u001b[38;5;28mstr\u001b[39m]:\n\u001b[32m--> \u001b[39m\u001b[32m127\u001b[39m     response = \u001b[38;5;28mself\u001b[39m.generate([inputs], run_manager=run_manager)\n\u001b[32m    128\u001b[39m     \u001b[38;5;28;01mreturn\u001b[39;00m \u001b[38;5;28mself\u001b[39m.create_outputs(response)[\u001b[32m0\u001b[39m]\n",
      "\u001b[36mFile \u001b[39m\u001b[32mc:\\Users\\chetan2\\anaconda3\\envs\\quant3\\Lib\\site-packages\\langchain\\chains\\llm.py:139\u001b[39m, in \u001b[36mLLMChain.generate\u001b[39m\u001b[34m(self, input_list, run_manager)\u001b[39m\n\u001b[32m    137\u001b[39m callbacks = run_manager.get_child() \u001b[38;5;28;01mif\u001b[39;00m run_manager \u001b[38;5;28;01melse\u001b[39;00m \u001b[38;5;28;01mNone\u001b[39;00m\n\u001b[32m    138\u001b[39m \u001b[38;5;28;01mif\u001b[39;00m \u001b[38;5;28misinstance\u001b[39m(\u001b[38;5;28mself\u001b[39m.llm, BaseLanguageModel):\n\u001b[32m--> \u001b[39m\u001b[32m139\u001b[39m     \u001b[38;5;28;01mreturn\u001b[39;00m \u001b[38;5;28mself\u001b[39m.llm.generate_prompt(\n\u001b[32m    140\u001b[39m         prompts,\n\u001b[32m    141\u001b[39m         stop,\n\u001b[32m    142\u001b[39m         callbacks=callbacks,\n\u001b[32m    143\u001b[39m         **\u001b[38;5;28mself\u001b[39m.llm_kwargs,\n\u001b[32m    144\u001b[39m     )\n\u001b[32m    145\u001b[39m \u001b[38;5;28;01melse\u001b[39;00m:\n\u001b[32m    146\u001b[39m     results = \u001b[38;5;28mself\u001b[39m.llm.bind(stop=stop, **\u001b[38;5;28mself\u001b[39m.llm_kwargs).batch(\n\u001b[32m    147\u001b[39m         cast(\u001b[38;5;28mlist\u001b[39m, prompts), {\u001b[33m\"\u001b[39m\u001b[33mcallbacks\u001b[39m\u001b[33m\"\u001b[39m: callbacks}\n\u001b[32m    148\u001b[39m     )\n",
      "\u001b[36mFile \u001b[39m\u001b[32mc:\\Users\\chetan2\\anaconda3\\envs\\quant3\\Lib\\site-packages\\langchain_core\\language_models\\llms.py:766\u001b[39m, in \u001b[36mBaseLLM.generate_prompt\u001b[39m\u001b[34m(self, prompts, stop, callbacks, **kwargs)\u001b[39m\n\u001b[32m    757\u001b[39m \u001b[38;5;129m@override\u001b[39m\n\u001b[32m    758\u001b[39m \u001b[38;5;28;01mdef\u001b[39;00m\u001b[38;5;250m \u001b[39m\u001b[34mgenerate_prompt\u001b[39m(\n\u001b[32m    759\u001b[39m     \u001b[38;5;28mself\u001b[39m,\n\u001b[32m   (...)\u001b[39m\u001b[32m    763\u001b[39m     **kwargs: Any,\n\u001b[32m    764\u001b[39m ) -> LLMResult:\n\u001b[32m    765\u001b[39m     prompt_strings = [p.to_string() \u001b[38;5;28;01mfor\u001b[39;00m p \u001b[38;5;129;01min\u001b[39;00m prompts]\n\u001b[32m--> \u001b[39m\u001b[32m766\u001b[39m     \u001b[38;5;28;01mreturn\u001b[39;00m \u001b[38;5;28mself\u001b[39m.generate(prompt_strings, stop=stop, callbacks=callbacks, **kwargs)\n",
      "\u001b[36mFile \u001b[39m\u001b[32mc:\\Users\\chetan2\\anaconda3\\envs\\quant3\\Lib\\site-packages\\langchain_core\\language_models\\llms.py:973\u001b[39m, in \u001b[36mBaseLLM.generate\u001b[39m\u001b[34m(self, prompts, stop, callbacks, tags, metadata, run_name, run_id, **kwargs)\u001b[39m\n\u001b[32m    958\u001b[39m \u001b[38;5;28;01mif\u001b[39;00m (\u001b[38;5;28mself\u001b[39m.cache \u001b[38;5;129;01mis\u001b[39;00m \u001b[38;5;28;01mNone\u001b[39;00m \u001b[38;5;129;01mand\u001b[39;00m get_llm_cache() \u001b[38;5;129;01mis\u001b[39;00m \u001b[38;5;28;01mNone\u001b[39;00m) \u001b[38;5;129;01mor\u001b[39;00m \u001b[38;5;28mself\u001b[39m.cache \u001b[38;5;129;01mis\u001b[39;00m \u001b[38;5;28;01mFalse\u001b[39;00m:\n\u001b[32m    959\u001b[39m     run_managers = [\n\u001b[32m    960\u001b[39m         callback_manager.on_llm_start(\n\u001b[32m    961\u001b[39m             \u001b[38;5;28mself\u001b[39m._serialized,\n\u001b[32m   (...)\u001b[39m\u001b[32m    971\u001b[39m         )\n\u001b[32m    972\u001b[39m     ]\n\u001b[32m--> \u001b[39m\u001b[32m973\u001b[39m     \u001b[38;5;28;01mreturn\u001b[39;00m \u001b[38;5;28mself\u001b[39m._generate_helper(\n\u001b[32m    974\u001b[39m         prompts,\n\u001b[32m    975\u001b[39m         stop,\n\u001b[32m    976\u001b[39m         run_managers,\n\u001b[32m    977\u001b[39m         new_arg_supported=\u001b[38;5;28mbool\u001b[39m(new_arg_supported),\n\u001b[32m    978\u001b[39m         **kwargs,\n\u001b[32m    979\u001b[39m     )\n\u001b[32m    980\u001b[39m \u001b[38;5;28;01mif\u001b[39;00m \u001b[38;5;28mlen\u001b[39m(missing_prompts) > \u001b[32m0\u001b[39m:\n\u001b[32m    981\u001b[39m     run_managers = [\n\u001b[32m    982\u001b[39m         callback_managers[idx].on_llm_start(\n\u001b[32m    983\u001b[39m             \u001b[38;5;28mself\u001b[39m._serialized,\n\u001b[32m   (...)\u001b[39m\u001b[32m    990\u001b[39m         \u001b[38;5;28;01mfor\u001b[39;00m idx \u001b[38;5;129;01min\u001b[39;00m missing_prompt_idxs\n\u001b[32m    991\u001b[39m     ]\n",
      "\u001b[36mFile \u001b[39m\u001b[32mc:\\Users\\chetan2\\anaconda3\\envs\\quant3\\Lib\\site-packages\\langchain_core\\language_models\\llms.py:792\u001b[39m, in \u001b[36mBaseLLM._generate_helper\u001b[39m\u001b[34m(self, prompts, stop, run_managers, new_arg_supported, **kwargs)\u001b[39m\n\u001b[32m    781\u001b[39m \u001b[38;5;28;01mdef\u001b[39;00m\u001b[38;5;250m \u001b[39m\u001b[34m_generate_helper\u001b[39m(\n\u001b[32m    782\u001b[39m     \u001b[38;5;28mself\u001b[39m,\n\u001b[32m    783\u001b[39m     prompts: \u001b[38;5;28mlist\u001b[39m[\u001b[38;5;28mstr\u001b[39m],\n\u001b[32m   (...)\u001b[39m\u001b[32m    788\u001b[39m     **kwargs: Any,\n\u001b[32m    789\u001b[39m ) -> LLMResult:\n\u001b[32m    790\u001b[39m     \u001b[38;5;28;01mtry\u001b[39;00m:\n\u001b[32m    791\u001b[39m         output = (\n\u001b[32m--> \u001b[39m\u001b[32m792\u001b[39m             \u001b[38;5;28mself\u001b[39m._generate(\n\u001b[32m    793\u001b[39m                 prompts,\n\u001b[32m    794\u001b[39m                 stop=stop,\n\u001b[32m    795\u001b[39m                 \u001b[38;5;66;03m# TODO: support multiple run managers\u001b[39;00m\n\u001b[32m    796\u001b[39m                 run_manager=run_managers[\u001b[32m0\u001b[39m] \u001b[38;5;28;01mif\u001b[39;00m run_managers \u001b[38;5;28;01melse\u001b[39;00m \u001b[38;5;28;01mNone\u001b[39;00m,\n\u001b[32m    797\u001b[39m                 **kwargs,\n\u001b[32m    798\u001b[39m             )\n\u001b[32m    799\u001b[39m             \u001b[38;5;28;01mif\u001b[39;00m new_arg_supported\n\u001b[32m    800\u001b[39m             \u001b[38;5;28;01melse\u001b[39;00m \u001b[38;5;28mself\u001b[39m._generate(prompts, stop=stop)\n\u001b[32m    801\u001b[39m         )\n\u001b[32m    802\u001b[39m     \u001b[38;5;28;01mexcept\u001b[39;00m \u001b[38;5;167;01mBaseException\u001b[39;00m \u001b[38;5;28;01mas\u001b[39;00m e:\n\u001b[32m    803\u001b[39m         \u001b[38;5;28;01mfor\u001b[39;00m run_manager \u001b[38;5;129;01min\u001b[39;00m run_managers:\n",
      "\u001b[36mFile \u001b[39m\u001b[32mc:\\Users\\chetan2\\anaconda3\\envs\\quant3\\Lib\\site-packages\\langchain_core\\language_models\\llms.py:1547\u001b[39m, in \u001b[36mLLM._generate\u001b[39m\u001b[34m(self, prompts, stop, run_manager, **kwargs)\u001b[39m\n\u001b[32m   1544\u001b[39m new_arg_supported = inspect.signature(\u001b[38;5;28mself\u001b[39m._call).parameters.get(\u001b[33m\"\u001b[39m\u001b[33mrun_manager\u001b[39m\u001b[33m\"\u001b[39m)\n\u001b[32m   1545\u001b[39m \u001b[38;5;28;01mfor\u001b[39;00m prompt \u001b[38;5;129;01min\u001b[39;00m prompts:\n\u001b[32m   1546\u001b[39m     text = (\n\u001b[32m-> \u001b[39m\u001b[32m1547\u001b[39m         \u001b[38;5;28mself\u001b[39m._call(prompt, stop=stop, run_manager=run_manager, **kwargs)\n\u001b[32m   1548\u001b[39m         \u001b[38;5;28;01mif\u001b[39;00m new_arg_supported\n\u001b[32m   1549\u001b[39m         \u001b[38;5;28;01melse\u001b[39;00m \u001b[38;5;28mself\u001b[39m._call(prompt, stop=stop, **kwargs)\n\u001b[32m   1550\u001b[39m     )\n\u001b[32m   1551\u001b[39m     generations.append([Generation(text=text)])\n\u001b[32m   1552\u001b[39m \u001b[38;5;28;01mreturn\u001b[39;00m LLMResult(generations=generations)\n",
      "\u001b[36mFile \u001b[39m\u001b[32mc:\\Users\\chetan2\\anaconda3\\envs\\quant3\\Lib\\site-packages\\langchain_community\\llms\\together.py:143\u001b[39m, in \u001b[36mTogether._call\u001b[39m\u001b[34m(self, prompt, stop, run_manager, **kwargs)\u001b[39m\n\u001b[32m    141\u001b[39m     \u001b[38;5;28;01mraise\u001b[39;00m \u001b[38;5;167;01mException\u001b[39;00m(\u001b[33mf\u001b[39m\u001b[33m\"\u001b[39m\u001b[33mTogether Server: Error \u001b[39m\u001b[38;5;132;01m{\u001b[39;00mresponse.status_code\u001b[38;5;132;01m}\u001b[39;00m\u001b[33m\"\u001b[39m)\n\u001b[32m    142\u001b[39m \u001b[38;5;28;01melif\u001b[39;00m response.status_code >= \u001b[32m400\u001b[39m:\n\u001b[32m--> \u001b[39m\u001b[32m143\u001b[39m     \u001b[38;5;28;01mraise\u001b[39;00m \u001b[38;5;167;01mValueError\u001b[39;00m(\u001b[33mf\u001b[39m\u001b[33m\"\u001b[39m\u001b[33mTogether received an invalid payload: \u001b[39m\u001b[38;5;132;01m{\u001b[39;00mresponse.text\u001b[38;5;132;01m}\u001b[39;00m\u001b[33m\"\u001b[39m)\n\u001b[32m    144\u001b[39m \u001b[38;5;28;01melif\u001b[39;00m response.status_code != \u001b[32m200\u001b[39m:\n\u001b[32m    145\u001b[39m     \u001b[38;5;28;01mraise\u001b[39;00m \u001b[38;5;167;01mException\u001b[39;00m(\n\u001b[32m    146\u001b[39m         \u001b[33mf\u001b[39m\u001b[33m\"\u001b[39m\u001b[33mTogether returned an unexpected response with status \u001b[39m\u001b[33m\"\u001b[39m\n\u001b[32m    147\u001b[39m         \u001b[33mf\u001b[39m\u001b[33m\"\u001b[39m\u001b[38;5;132;01m{\u001b[39;00mresponse.status_code\u001b[38;5;132;01m}\u001b[39;00m\u001b[33m: \u001b[39m\u001b[38;5;132;01m{\u001b[39;00mresponse.text\u001b[38;5;132;01m}\u001b[39;00m\u001b[33m\"\u001b[39m\n\u001b[32m    148\u001b[39m     )\n",
      "\u001b[31mValueError\u001b[39m: Together received an invalid payload: {\n  \"id\": \"o2VSRnn-2kFHot-95cedf298c7e8adc-PDX\",\n  \"error\": {\n    \"message\": \"You have reached the rate limit specific to this model meta-llama/Llama-3.3-70B-Instruct-Turbo-Free. The maximum rate limit for this model is 6.0 queries and 180000000 tokens per minute. This limit differs from the general rate limits published at Together AI rate limits documentation (https://docs.together.ai/docs/rate-limits). For inquiries about increasing your model-specific rate limit, please contact our sales team (https://www.together.ai/forms/contact-sales)\",\n    \"type\": \"model_rate_limit\",\n    \"param\": null,\n    \"code\": null\n  }\n}"
     ]
    }
   ],
   "source": [
    "query = \"what is maternity leave\"\n",
    "response = qa_chain.run(query)\n",
    "print(prompt)\n",
    "\n",
    "# print(\"Bot:\", response)"
   ]
  },
  {
   "cell_type": "code",
   "execution_count": 16,
   "id": "7dd82c57-a07e-425e-a78d-8362ae70db4a",
   "metadata": {
    "scrolled": true
   },
   "outputs": [
    {
     "name": "stdout",
     "output_type": "stream",
     "text": [
      "Bot: \n",
      "**Product Metadata for KOORSI & COMPANY - Aaram Mid Back Mesh Ergonomic Office Chair**\n",
      "\n",
      "**Product Name:**\n",
      "Aaram Mid Back Mesh Ergonomic Office Chair, Tilting and Height Adjustable Mechanism\n",
      "\n",
      "**Brand:**\n",
      "KOORSI & COMPANY\n",
      "\n",
      "**Model:**\n",
      "Aaram\n",
      "\n",
      "**Type:**\n",
      "Ergonomic Office Chair\n",
      "\n",
      "**Key Features:**\n",
      "- **Mesh Back Design:** Promotes breathability and comfort\n",
      "- **Ergonomic Design:** Supports proper posture and reduces strain\n",
      "- **Tilting Mechanism:** Adjustable recline for personalized comfort\n",
      "- **Height Adjustable:** Customizable seat height to fit various users\n",
      "- **Revolving Base:** 360-degree swivel for easy mobility\n",
      "- **Suitable for:** Home and Office use\n",
      "\n",
      "**Color Options:**\n",
      "- Black\n",
      "\n",
      "**Warranty:**\n",
      "- **Limited Warranty:** 6 Months\n",
      "\n",
      "**Dimensions:**\n",
      "- (Specify dimensions if available, e.g., Seat Height: [X] cm - [Y] inches, Seat Width: [X] cm - [Y] inches, Back Height: [X] cm - [Y] inches)\n",
      "\n",
      "**Weight Capacity:**\n",
      "- (Specify weight capacity if available, e.g., Up to [X] kg/[Y] lbs)\n",
      "\n",
      "**Materials:**\n",
      "- Mesh fabric for backrest\n",
      "- Durable base and frame\n",
      "\n",
      "**Usage:**\n",
      "- Home Office\n",
      "- Professional Office\n",
      "\n",
      "**Target Audience:**\n",
      "- Office Workers\n",
      "- Home Office Users\n",
      "- Professionals seeking ergonomic support\n",
      "\n",
      "**Additional Information:**\n",
      "- **Package Contents:** Chair, assembly tools, user manual\n",
      "- **Assembly Required:** Yes (typically includes easy-to-follow instructions)\n",
      "- **Certifications:** (Include any relevant certifications, if applicable)\n",
      "\n",
      "**SEO Keywords:**\n",
      "- Ergonomic office chair\n",
      "- Mesh office chair\n",
      "- Tilting office chair\n",
      "- Height adjustable chair\n",
      "- Revolving office chair\n",
      "- Home office chair\n",
      "- Ergonomic seating\n",
      "- Office furniture\n",
      "- Black office chair\n",
      "- KOORSI & COMPANY\n",
      "\n",
      "**Meta Description:**\n",
      "Upgrade your workspace with the KOORSI & COMPANY Aaram Mid Back Mesh Ergonomic Office Chair, featuring a breathable mesh design, adjustable height and tilt, and a revolving base for enhanced comfort and mobility in both home and office settings. Enjoy 6 months limited warranty and ergonomic support for long working hours. Available in sleek Black.\n",
      "\n",
      "**Product Image Alt Text:**\n",
      "Ergonomic office chair in black with mesh back, adjustable height and tilt mechanism, revolving base, suitable for home and office use by KOORSI & COMPANY.\n"
     ]
    }
   ],
   "source": [
    "query = \"generate me meta data for product KOORSI & COMPANY. Aaram Mid Back Mesh Ergonomic Office Chair, Tilting and Height Adjustable Mechanism, 6 Months Limited Warranty, Revolving Chair for Home & Office (Black)\"\n",
    "response = qa_chain.run(query)\n",
    "print(\"Bot:\", response)"
   ]
  },
  {
   "cell_type": "code",
   "execution_count": 8,
   "id": "ddfdbcd9-df75-40a4-a98d-3a1009232301",
   "metadata": {},
   "outputs": [
    {
     "name": "stdout",
     "output_type": "stream",
     "text": [
      "Bot: \n",
      "The provided document does not specify the number of sick leaves (Casual Leave) an executive is entitled to. It mainly focuses on other types of leave such as Extra-ordinary Leave (EOL/SL), Special Disability Leave, and Maternity Leave, without detailing the entitlements for Casual Leave or sick leave specifically. For accurate information regarding the number of sick leaves you are entitled to, you would need to refer to the specific leave policy section that addresses Casual Leave or contact your HR department directly.\n"
     ]
    }
   ],
   "source": [
    "query = \"how many sick leaves can i get\"\n",
    "response = qa_chain.run(query)\n",
    "print(\"Bot:\", response)"
   ]
  },
  {
   "cell_type": "code",
   "execution_count": 37,
   "id": "f9a1569a-2346-4039-8aa8-9ad340abcbad",
   "metadata": {},
   "outputs": [
    {
     "name": "stdout",
     "output_type": "stream",
     "text": [
      "Bot: The provided context does not contain specific information regarding the standard working hours of the company. Therefore, I cannot provide an accurate answer based solely on the given information.\n"
     ]
    }
   ],
   "source": [
    "query = \"what  are the working hours\"\n",
    "response = qa_chain.run(query)\n",
    "print(\"Bot:\", response)"
   ]
  },
  {
   "cell_type": "code",
   "execution_count": 38,
   "id": "e4e9a704-417a-454d-ad2a-80ae610c75aa",
   "metadata": {
    "scrolled": true
   },
   "outputs": [
    {
     "name": "stdout",
     "output_type": "stream",
     "text": [
      "Bot: \n",
      "If you need time off for personal reasons, you can opt for **Casual Leave**. According to the provided context, casual leave is specifically intended to cover casual absences of executives for personal reasons, with a maximum allowance of 8 days in a calendar year.\n"
     ]
    }
   ],
   "source": [
    "query = \"which one can i opt for\"\n",
    "response = qa_chain.run(query)\n",
    "print(\"Bot:\", response)"
   ]
  },
  {
   "cell_type": "code",
   "execution_count": 39,
   "id": "9f920291-0f1d-4753-bfb9-be7a27a975d5",
   "metadata": {
    "scrolled": true
   },
   "outputs": [
    {
     "name": "stdout",
     "output_type": "stream",
     "text": [
      "Bot: \n",
      "Based on the provided context, here is the breakdown of your total leave entitlements in a calendar year:\n",
      "\n",
      "1. **Casual Leave**: 8 days\n",
      "2. **Earned Leave (EL)**: 30 days credited in advance, with a mandatory requirement to take at least 10 days EL in a calendar year. You can carry over a maximum of 20 EL days to the next year.\n",
      "3. **Maternity Leave**: Up to 180 days (for female executives with less than 2 surviving children) or up to 45 days (for any female executive regardless of the number of children). This leave is not debited against the regular leave account.\n",
      "\n",
      "**Note**: The context does not specify a fixed number of sick leaves (other than what might be covered under Maternity Leave or Special Disability Leave), so we will not include an additional specific number for sick leave unless explicitly stated.\n",
      "\n",
      "**Total Entitlements (excluding sick leave, as it's not quantified)**:\n",
      "- Casual Leave: 8 days\n",
      "- Earned Leave: 30 days (with a minimum usage requirement of 10 days)\n",
      "- Maternity Leave: Up to 180 days (if applicable) or up to 45 days (if applicable)\n",
      "\n",
      "Therefore, the total potential leave days you can be entitled to in a year, depending on your specific circumstances (such as gender and family status), can range from a minimum of 38 days (8 casual + 30 EL + 0 maternity) to a maximum of 228 days (8 casual + 30 EL + 180 maternity). However, the maternity leave is conditional based on your status as a female executive and family circumstances.\n"
     ]
    }
   ],
   "source": [
    "query = \"how many leaves am i entitled to in a year as an employee\"\n",
    "response = qa_chain.run(query)\n",
    "print(\"Bot:\", response)"
   ]
  },
  {
   "cell_type": "code",
   "execution_count": 10,
   "id": "d08e7cc4-c420-4959-bc81-8f5852fa237a",
   "metadata": {
    "scrolled": true
   },
   "outputs": [
    {
     "name": "stdout",
     "output_type": "stream",
     "text": [
      "Bot: \n",
      "The company's policy regarding resignation is as follows:\n",
      "\n",
      "1. **Submission of Resignation:** An executive must submit a resignation letter in writing or via email to the Reporting Officer, with a copy sent to HR.\n",
      "\n",
      "2. **Relief from Duties:** The executive will not be relieved of their duties until their resignation is accepted and officially communicated to all concerned parties.\n",
      "\n",
      "3. **Effective Date:** The executive's employment will cease on the date specified in the resignation letter.\n",
      "\n",
      "4. **Notice Period:** A notice period is essential to ensure a smooth handover of responsibilities. The notice period varies based on the category of the executive:\n",
      "   - **Probationary Executives:** One month or salary in lieu thereof.\n",
      "   - **Regular Executives:** Two months or salary in lieu thereof.\n",
      "   - **Temporary/Contract Executives:** As per the terms and conditions of their appointment/contract.\n",
      "\n",
      "5. **Settlement of Dues:** Upon acceptance of the resignation and agreement on a relieving date, a written communication will be sent to the executive for their full and final settlement of dues, with copies to Accounts and other related departments.\n",
      "\n",
      "6. **Duties During Notice Period:** The executive must clear all dues to the organization, hand over responsibilities and assets satisfactorily, and if not done, their salary for the following month may be withheld.\n",
      "\n",
      "7. **Resignation During Investigation:** Resignation from an executive whose conduct is under investigation or departmental action cannot be accepted without the sanction of the competent authority to dismiss the executive.\n",
      "\n",
      "8. **Withdrawal of Resignation:** Withdrawal of resignation may be considered on a case-by-case basis, with higher-level approvals required for senior management positions (VP & above) and middle/junior management positions (AVP & below).\n"
     ]
    }
   ],
   "source": [
    "query = \"resignation policy\"\n",
    "response = qa_chain.run(query)\n",
    "print(\"Bot:\", response)"
   ]
  },
  {
   "cell_type": "code",
   "execution_count": 41,
   "id": "e4596df2-9731-4c74-81d4-a41047ddec4f",
   "metadata": {
    "collapsed": true,
    "jupyter": {
     "outputs_hidden": true
    }
   },
   "outputs": [
    {
     "name": "stdout",
     "output_type": "stream",
     "text": [
      "Bot: \n",
      "Based on the provided context, resigning effective immediately is not explicitly detailed, but we can infer the following procedures and considerations:\n",
      "\n",
      "1. **Formal Resignation Submission**: You must still submit a formal resignation letter in writing or via email to your Reporting Officer, along with a copy to HR, even if immediate resignation is desired.\n",
      "\n",
      "2. **Notice Period Waiver**: Since immediate resignation is not standard, you would need to request a waiver of the notice period. This request should be justified clearly, explaining the reasons for the immediate resignation.\n",
      "\n",
      "3. **Approval Process**:\n",
      "   - **For Senior Management Positions (VP & above)**: The Chairman would need to approve the waiver and immediate resignation.\n",
      "   - **For Middle and Junior Management Positions (AVP & below)**: The CEO would need to approve the waiver and immediate resignation.\n",
      "\n",
      "4. **Handover and Dues**: Despite the immediate resignation, you are still expected to:\n",
      "   - Ensure a smooth handover of responsibilities to another executive.\n",
      "   - Clear all dues to the organization within the notice period (if not fully waived).\n",
      "   - Handover all responsibilities and assets to the satisfaction of the organization.\n",
      "\n",
      "5. **Consequences of Non-Compliance**: If you fail to meet the handover requirements or clear dues, your salary for the following month may be withheld.\n",
      "\n",
      "6. **Communication**: Once approved, a formal communication should be sent to you with copies to Accounts and other related departments for your full and final settlement of dues.\n",
      "\n",
      "Given these points, it is crucial to have a compelling reason for immediate resignation and to follow up closely with both your Reporting Officer and HR to ensure all procedural requirements are met and approvals are obtained.\n"
     ]
    }
   ],
   "source": [
    "query = \"what if i want to do it today itself\"\n",
    "response = qa_chain.run(query)\n",
    "print(\"Bot:\", response)"
   ]
  },
  {
   "cell_type": "code",
   "execution_count": 42,
   "id": "2e196e04-c72c-471f-b466-295beab92e07",
   "metadata": {
    "scrolled": true
   },
   "outputs": [
    {
     "name": "stdout",
     "output_type": "stream",
     "text": [
      "Bot: \n",
      "The chapter on resignation policies specifically outlines the following key points:\n",
      "\n",
      "1. **Resignation Submission**: An executive must submit a written (or email) resignation letter to the Reporting Officer, with a copy to HR, providing the requisite notice period.\n",
      "\n",
      "2. **Acceptance of Resignation**: The resignation is not considered final until it is accepted by the Reporting Officer, and this acceptance must be communicated to all concerned parties.\n",
      "\n",
      "3. **Notice Period**:\n",
      "   - **Probation**: One month or salary in lieu thereof.\n",
      "   - **Regular Executives**: Two months or salary in lieu thereof.\n",
      "   - **Temporary/Contract Executives**: As per the terms and conditions of their appointment/contract.\n",
      "   - **Waiver**: The notice period may be waived at the discretion of the Head of Department (HoD) with approval from the Chairman, subject to justification by the executive.\n",
      "\n",
      "4. **Duties During Notice Period**: The executive must clear all dues to the organization, hand over responsibilities and assets satisfactorily, and ensure a smooth handover of duties. Failure to do so may result in withholding the following month's salary.\n",
      "\n",
      "5. **Resignation During Investigation**: Resignations from executives under investigation or departmental action cannot be accepted without the sanction of the authority competent to dismiss the executive.\n",
      "\n",
      "6. **Withdrawal of Resignation**: Withdrawal of resignation is allowed on a case-by-case basis, with Senior Management positions requiring approval from the Chairman and middle/junior management positions from the CEO.\n",
      "\n",
      "7. **Final Settlement**: Upon acceptance of resignation, a written communication is sent to the executive for full and final settlement of dues, with copies to Accounts and other related departments.\n"
     ]
    }
   ],
   "source": [
    "query = \"what does the chapter on resignation say \"\n",
    "response = qa_chain.run(query)\n",
    "print(\"Bot:\", response)"
   ]
  },
  {
   "cell_type": "code",
   "execution_count": 43,
   "id": "11f85dbb-33eb-476b-8eb4-b021e117f6c2",
   "metadata": {
    "scrolled": true
   },
   "outputs": [
    {
     "name": "stdout",
     "output_type": "stream",
     "text": [
      "Bot: \n",
      "To proceed with taking maternity leave according to the company's policy, follow these steps:\n",
      "\n",
      "1. **Eligibility Check**: Ensure you are eligible for maternity leave. You must be a female executive with less than two surviving children.\n",
      "\n",
      "2. **Application Submission**:\n",
      "   - Submit an application to the sanctioning authority well in advance. For maternity leave, it is recommended to apply at least 7 days before the intended start date of your leave, unless it is an emergency.\n",
      "   - Provide a medical certificate from an authorized medical attendant confirming your pregnancy and the expected due date.\n",
      "\n",
      "3. **Leave Duration**:\n",
      "   - You are entitled to 180 days of maternity leave from the date of commencement, which can be extended up to 24 months in case of complications or as per medical advice.\n",
      "   - Maternity leave can also be combined with earned leave on medical certificate, but this should not exceed 45 days in total additional leave.\n",
      "\n",
      "4. **Leave Type**:\n",
      "   - Maternity leave is granted on full pay and is not debited against your leave account.\n",
      "   - If you need to take less than 45 days of additional leave beyond the initial 180 days, it can be combined with earned leave.\n",
      "\n",
      "5. **Documentation**:\n",
      "   - Furnish your address during the leave period in your application.\n",
      "   - If you need to extend your leave, provide a medical certificate from a registered medical practitioner, especially if the reason is illness.\n",
      "\n",
      "6. **Resumption of Duty**:\n",
      "   - Upon completion of your leave, you will need to produce a fitness certificate from the Company’s Medical Officer or a registered medical practitioner to resume duty.\n",
      "\n",
      "7. **Sanction Confirmation**:\n",
      "   - Ensure you receive written confirmation of your leave sanction, which should include details such as the start and end dates of your leave, and any conditions or requirements.\n",
      "\n",
      "By adhering to these steps, you can ensure compliance with the company's maternity leave policy.\n"
     ]
    }
   ],
   "source": [
    "query = \"how to take maternity leave\"\n",
    "response = qa_chain.run(query)\n",
    "print(\"Bot:\", response)"
   ]
  },
  {
   "cell_type": "code",
   "execution_count": 44,
   "id": "7d90ab0d-fa63-41b1-af98-db8404e4c7dd",
   "metadata": {
    "scrolled": true
   },
   "outputs": [
    {
     "name": "stdout",
     "output_type": "stream",
     "text": [
      "Bot: \n",
      "**Application for Maternity Leave**\n",
      "\n",
      "**To:** [Sanctioning Authority's Name]  \n",
      "[Sanctioning Authority's Position]  \n",
      "[Company's Name]  \n",
      "[Company's Address]\n",
      "\n",
      "**From:** [Your Full Name]  \n",
      "[Your Position]  \n",
      "[Department]  \n",
      "[Company's Name]  \n",
      "[Your Contact Information]\n",
      "\n",
      "**Subject:** Application for Maternity Leave\n",
      "\n",
      "**Date:** [Current Date]\n",
      "\n",
      "---\n",
      "\n",
      "**Dear [Sanctioning Authority's Name],**\n",
      "\n",
      "I am writing to formally apply for maternity leave in accordance with the company's leave policy as outlined in the HR guidelines.\n",
      "\n",
      "**Details of Leave Request:**\n",
      "\n",
      "- **Employee Name:** [Your Full Name]\n",
      "- **Employee ID:** [Your Employee ID]\n",
      "- **Position:** [Your Position]\n",
      "- **Department:** [Your Department]\n",
      "- **Expected Date of Commencement of Leave:** [Expected Start Date of Maternity Leave]\n",
      "- **Duration of Leave Requested:** 180 days from the date of commencement, subject to medical certification.\n",
      "- **Reason for Leave:** Maternity leave following the expected delivery of my child.\n",
      "\n",
      "**Supporting Documents:**\n",
      "- Medical Certificate from the Authorized Medical Officer confirming the expected date of delivery and eligibility for maternity leave.\n",
      "- Any other relevant medical documentation as required by the company policy.\n",
      "\n",
      "**Additional Information:**\n",
      "- I have [number] surviving children currently, and this will be my [number] child.\n",
      "- I am willing to combine this leave with earned leave, if applicable, as per the company's policy, upon medical certification.\n",
      "- I will provide my address during the period of leave as follows: [Your Address During Leave].\n",
      "\n",
      "**Request for Approval:**\n",
      "I kindly request your approval for the maternity leave as detailed above. If there are any additional forms or documentation required, please let me know, and I will promptly provide them.\n",
      "\n",
      "Thank you for considering my request. I look forward to your positive response and will be available to discuss any further details as needed.\n",
      "\n",
      "**Sincerely,**\n",
      "\n",
      "[Your Full Name]  \n",
      "[Your Signature (if submitting a hard copy)]\n",
      "\n",
      "---\n",
      "\n",
      "**Note:** Ensure to attach all necessary medical certificates and any other required documents as per the company's policy when submitting this application. If you need to extend the leave or have any other specific circumstances, please follow the additional procedures outlined in the company's leave policy.\n",
      "\n",
      "Please adjust the placeholders with your specific details before submitting the application.\n"
     ]
    }
   ],
   "source": [
    "query = \"can you write an application for maternity leave for me according to the company policies\"\n",
    "response = qa_chain.run(query)\n",
    "print(\"Bot:\", response)"
   ]
  },
  {
   "cell_type": "code",
   "execution_count": 45,
   "id": "dd3716b7-b134-42e1-8c0f-4c9cd92efb67",
   "metadata": {
    "scrolled": true
   },
   "outputs": [
    {
     "name": "stdout",
     "output_type": "stream",
     "text": [
      "Bot: \n",
      "According to the company's policies, the total number of leaves an executive is entitled to in a calendar year, including maternity leave specifics, can be broken down as follows:\n",
      "\n",
      "1. **Casual Leave**: 8 days per calendar year.\n",
      "2. **Earned Leave (EL)**: 30 days per calendar year, with 15 days credited in advance on January 1st and July 1st.\n",
      "3. **Maternity Leave**: \n",
      "   - Up to 180 days for female executives with less than 2 surviving children, subject to medical certification.\n",
      "   - Additionally, maternity leave can be combined with earned leave, but the specific additional days from earned leave are not detailed beyond the standard 30 days per year.\n",
      "\n",
      "It's important to note that the combination of maternity leave with earned leave can increase the total leave period, but the base entitlement without combination is:\n",
      "\n",
      "- **Base Entitlement**: 8 (Casual) + 30 (Earned) = 38 days.\n",
      "- **Maternity Leave**: Up to 180 days, which is a significant period but is not typically counted within the annual leave cycle in the same way as casual or earned leave.\n",
      "\n",
      "Therefore, strictly within the annual leave cycle, the entitlement is 38 days (8 casual + 30 earned), with the potential for additional maternity leave beyond this annual cycle.\n"
     ]
    }
   ],
   "source": [
    "query = \"how many leaves can i get according to it\"\n",
    "response = qa_chain.run(query)\n",
    "print(\"Bot:\", response)"
   ]
  },
  {
   "cell_type": "code",
   "execution_count": 46,
   "id": "9d9c47ec-1181-4205-ac52-d3f75457e038",
   "metadata": {
    "scrolled": true
   },
   "outputs": [
    {
     "name": "stdout",
     "output_type": "stream",
     "text": [
      "Bot: I'm sorry, but I cannot provide recipes or information outside the scope of the corporate policies and documents provided. The context given focuses on medical health check-up policies, leave rules, and domestic travel policies, and does not include any culinary information. For cooking instructions, you may want to refer to a reliable cookbook or a trusted online recipe source.\n"
     ]
    }
   ],
   "source": [
    "query = \"what is the recipe to cook rice\"\n",
    "response = qa_chain.run(query)\n",
    "print(\"Bot:\", response)"
   ]
  },
  {
   "cell_type": "code",
   "execution_count": 47,
   "id": "4001af0b-54b5-4b79-a35e-24615da16f1a",
   "metadata": {},
   "outputs": [
    {
     "name": "stdout",
     "output_type": "stream",
     "text": [
      "Bot: The provided document does not specify exact break timings for each workday. However, it does mention that for casual leave taken for half a day, \"the lunch interval will be taken as the dividing line.\" This implies that there is a lunch break, but the start and end times of this break are not detailed in the given context. For precise break timings, further company-specific HR guidelines or policies would need to be consulted.\n"
     ]
    }
   ],
   "source": [
    "query = \"what are the break timings per day\"\n",
    "response = qa_chain.run(query)\n",
    "print(\"Bot:\", response)"
   ]
  },
  {
   "cell_type": "code",
   "execution_count": 48,
   "id": "4a6ff88e-57dd-4176-a932-0ff5a4110e42",
   "metadata": {
    "scrolled": true
   },
   "outputs": [
    {
     "name": "stdout",
     "output_type": "stream",
     "text": [
      "Bot: I'm sorry, but I cannot provide information on training dogs as it falls outside the scope of the provided corporate policy document which focuses on employee conduct, property management, and other organizational guidelines within NHLML. For information on dog training, you may want to consult resources specifically dedicated to animal training or behavior.\n"
     ]
    }
   ],
   "source": [
    "query = \"how to train a dog\"\n",
    "response = qa_chain.run(query)\n",
    "print(\"Bot:\", response)"
   ]
  },
  {
   "cell_type": "code",
   "execution_count": 49,
   "id": "bdb8b033-016a-4360-bd36-636a2afb3d7e",
   "metadata": {
    "scrolled": true
   },
   "outputs": [
    {
     "name": "stdout",
     "output_type": "stream",
     "text": [
      "Bot: \n",
      "According to the company's policies, the entitlements and procedures for Paternity Leave are as follows:\n",
      "\n",
      "**Entitlements:**\n",
      "- A male executive with less than two surviving children is eligible for Paternity Leave on full pay.\n",
      "- The duration of Paternity Leave is 15 days during the confinement of his wife.\n",
      "- This leave can be availed up to 15 days before or up to six months from the date of delivery of the child.\n",
      "- Paternity Leave must be supported by documentary evidence.\n",
      "- If not availed, the leave will lapse.\n",
      "\n",
      "**Procedures:**\n",
      "- The executive must apply for Paternity Leave through the proper channel, providing necessary documentation to support the leave request.\n",
      "- The application should be made sufficiently in advance to ensure timely processing.\n",
      "- There is no specific mention of a minimum notice period for Paternity Leave in the provided context, but generally, following the broader leave application guidelines (e.g., at least 24 hours for leave of 3 days or less, and 7 days for longer periods) would be advisable.\n",
      "- The sanctioning authority will review the application and either grant, grant for a lesser period, or refuse the leave, communicating the decision to the executive immediately.\n"
     ]
    }
   ],
   "source": [
    "query = \"i want paternity leave\"\n",
    "response = qa_chain.run(query)\n",
    "print(\"Bot:\", response)"
   ]
  },
  {
   "cell_type": "code",
   "execution_count": 50,
   "id": "939fb988-5fbb-4c3d-abf9-11b57a579958",
   "metadata": {},
   "outputs": [
    {
     "name": "stdout",
     "output_type": "stream",
     "text": [
      "Bot: \n",
      "According to the company policy, a male executive with less than two surviving children is entitled to Paternity Leave on full pay for a period of 15 days during the confinement of his wife, based on documentary evidence.\n"
     ]
    }
   ],
   "source": [
    "query = \"how many paternity leaves do i get?\"\n",
    "response = qa_chain.run(query)\n",
    "print(\"Bot:\", response)"
   ]
  },
  {
   "cell_type": "code",
   "execution_count": 51,
   "id": "62396234-a5e7-4d5b-a6d0-92194dec8878",
   "metadata": {
    "scrolled": true
   },
   "outputs": [
    {
     "name": "stdout",
     "output_type": "stream",
     "text": [
      "Bot: I'm unable to provide information on popular tourist destinations or travel recommendations for Delhi or any other location, as the given context is focused on the internal travel policy and compensation structure of NHLML, without including details about tourist attractions. For travel recommendations, you might want to refer to travel guides or official tourism websites.\n"
     ]
    }
   ],
   "source": [
    "query = \"which places can i visit in delhi \"\n",
    "response = qa_chain.run(query)\n",
    "print(\"Bot:\", response)"
   ]
  },
  {
   "cell_type": "code",
   "execution_count": 52,
   "id": "0d10285f-d31c-40ee-99a5-43ce2d07e91e",
   "metadata": {},
   "outputs": [
    {
     "name": "stdout",
     "output_type": "stream",
     "text": [
      "Bot: \n",
      "Based on the provided context, as an employee, you are entitled to the following benefits according to the company policies:\n",
      "\n",
      "1. **Group Life Insurance Policy**:\n",
      "   - Coverage in case of death or permanent disability, with a sum assured as specified in the table, payable to your nominated family member(s).\n",
      "\n",
      "2. **Group Medical Policy**:\n",
      "   - Comprehensive medical cover including out-patient and specialized treatments in approved hospitals.\n",
      "   - Coverage for:\n",
      "     - Pathological, radiological, and other diagnostic methods.\n",
      "     - Consultations at clinics or with registered medical practitioners.\n",
      "     - Home treatment if certified necessary by a registered medical practitioner.\n",
      "     - Outdoor patient treatment in approved hospitals.\n",
      "     - Supply of medicines, vaccines, serums, and other therapeutic substances.\n",
      "   - The \"family\" definition includes your spouse, parents, unmarried or widowed daughters/sons below 25 years, and fully dependent minor siblings.\n",
      "\n",
      "3. **Leave Policy**:\n",
      "   - Specific leave entitlements are detailed (though exact entitlements by level are not fully provided in the snippet, generally it includes various types of leave such as annual, sick, etc.).\n",
      "\n",
      "4. **Compensation Structure**:\n",
      "   - Details on compensation structure are provided (though specific amounts are not fully detailed in the snippet, it outlines different levels of executives and their respective compensations).\n",
      "\n",
      "5. **Domestic Travel Policy**:\n",
      "   - Travel allowances and daily allowances for various purposes including tours, training programs, medical examinations, and more.\n",
      "   - Entitlements vary by level (e.g., Director/CEO, COO/CFO, VP, AVP & Sr. Mgr., Manager and below) and include allowances for local conveyance, hotel tariffs, rail travel, and air travel.\n",
      "\n",
      "6. **Medical Health Checkup Policy**:\n",
      "   - Likely includes provisions for regular health check-ups, though specific details are not provided in the given context.\n",
      "\n",
      "7. **Other Policies**:\n",
      "   - **Device Purchase Policy**: Guidelines for purchasing devices.\n",
      "   - **Internet Usage Policy**: Rules for internet usage within the company.\n",
      "   - **Office Email Usage Policy**: Guidelines for using company email.\n",
      "   - **Password Protection Policy**: Standards for protecting passwords.\n",
      "   - **Separation Policy**: Procedures for separation from the company.\n",
      "\n",
      "For precise details on each benefit, such as exact amounts, specific entitlements, and procedures, you should refer to the full policy documents or consult your HR department.\n"
     ]
    }
   ],
   "source": [
    "query = \"tell me about benefits i avail \"\n",
    "response = qa_chain.run(query)\n",
    "print(\"Bot:\", response)"
   ]
  }
 ],
 "metadata": {
  "kernelspec": {
   "display_name": "quant3",
   "language": "python",
   "name": "python3"
  },
  "language_info": {
   "codemirror_mode": {
    "name": "ipython",
    "version": 3
   },
   "file_extension": ".py",
   "mimetype": "text/x-python",
   "name": "python",
   "nbconvert_exporter": "python",
   "pygments_lexer": "ipython3",
   "version": "3.12.11"
  }
 },
 "nbformat": 4,
 "nbformat_minor": 5
}
